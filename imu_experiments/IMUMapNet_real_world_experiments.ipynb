{
  "cells": [
    {
      "cell_type": "code",
      "execution_count": null,
      "metadata": {
        "id": "opKv1sPVXI_r"
      },
      "outputs": [],
      "source": [
        "from google.colab import drive\n",
        "drive.mount('/content/drive')"
      ]
    },
    {
      "cell_type": "code",
      "execution_count": null,
      "metadata": {
        "id": "ij9vPqVcY9oQ"
      },
      "outputs": [],
      "source": [
        "import os\n",
        "os.chdir('/content/drive/My Drive/Colab Notebooks/FYP/imu_copy/imumapnet')"
      ]
    },
    {
      "cell_type": "code",
      "execution_count": null,
      "metadata": {
        "id": "ZQnoxC5rZiAY"
      },
      "outputs": [],
      "source": [
        "! pip install transforms3d\n",
        "! pip install rowan\n",
        "! pip install pyquaternion"
      ]
    },
    {
      "cell_type": "code",
      "execution_count": null,
      "metadata": {
        "id": "6-cWVIwJCzlP"
      },
      "outputs": [],
      "source": [
        "%cd scripts"
      ]
    },
    {
      "cell_type": "code",
      "execution_count": null,
      "metadata": {
        "id": "jOoCBbHUN32A"
      },
      "outputs": [],
      "source": [
        "%load_ext tensorboard\n",
        "%tensorboard --logdir=./"
      ]
    },
    {
      "cell_type": "markdown",
      "metadata": {
        "id": "TRltAfiGY-GX"
      },
      "source": [
        "# Real-world"
      ]
    },
    {
      "cell_type": "markdown",
      "metadata": {
        "id": "0v8ML-akse4s"
      },
      "source": [
        "## Training"
      ]
    },
    {
      "cell_type": "code",
      "execution_count": null,
      "metadata": {
        "id": "D3zmGBQMGucp"
      },
      "outputs": [],
      "source": [
        "gpu_info = !nvidia-smi\n",
        "gpu_info = '\\n'.join(gpu_info)\n",
        "if gpu_info.find('failed') >= 0:\n",
        "  print('Not connected to a GPU')\n",
        "else:\n",
        "  print(gpu_info)"
      ]
    },
    {
      "cell_type": "markdown",
      "source": [
        "### Baseline"
      ],
      "metadata": {
        "id": "7lG-kvWzvpl5"
      }
    },
    {
      "cell_type": "code",
      "source": [
        "! python train.py \\\n",
        "--dataset AirSim --scene campus_v3 --data_dir '/content/drive/MyDrive/Colab Notebooks/FYP/datasets' \\\n",
        "--config_file configs/mapnet.ini --model mapnet --device 0 \\\n",
        "--imu_mode None \\\n",
        "--noisy_training None "
      ],
      "metadata": {
        "id": "gUqLW2PEwckY"
      },
      "execution_count": null,
      "outputs": []
    },
    {
      "cell_type": "code",
      "source": [
        "! python train.py \\\n",
        "--dataset AirSim --scene campus_v3 --data_dir '/content/drive/MyDrive/Colab Notebooks/FYP/datasets' \\\n",
        "--config_file configs/mapnet.ini --model mapnet --device 0 \\\n",
        "--imu_mode None \\\n",
        "--noisy_training v1 "
      ],
      "metadata": {
        "id": "9B8O2ORQweN1"
      },
      "execution_count": null,
      "outputs": []
    },
    {
      "cell_type": "markdown",
      "source": [
        "### Weighted Average alpha = 0.5\n"
      ],
      "metadata": {
        "id": "_wqsj7GDF-9N"
      }
    },
    {
      "cell_type": "code",
      "source": [
        "! python train.py \\\n",
        "--dataset AirSim --scene campus_v3 --data_dir '/content/drive/MyDrive/Colab Notebooks/FYP/datasets' \\\n",
        "--config_file configs/mapnet.ini --model mapnet --device 0 \\\n",
        "--imu_mode Average \\\n",
        "--noisy_training None \\\n",
        "--suffix _imu_weight_0_5"
      ],
      "metadata": {
        "id": "P1YAbWVlv_MA"
      },
      "execution_count": null,
      "outputs": []
    },
    {
      "cell_type": "code",
      "source": [
        "! python train.py \\\n",
        "--dataset AirSim --scene campus_v3 --data_dir '/content/drive/MyDrive/Colab Notebooks/FYP/datasets' \\\n",
        "--config_file configs/mapnet.ini --model mapnet --device 0 \\\n",
        "--imu_mode Average \\\n",
        "--noisy_training v1 \\\n",
        "--suffix _imu_weight_0_5"
      ],
      "metadata": {
        "id": "oEYPk8edwAK7"
      },
      "execution_count": null,
      "outputs": []
    },
    {
      "cell_type": "markdown",
      "source": [
        "### Weighted Average alpha = 1.0"
      ],
      "metadata": {
        "id": "BaSZRfKjvleD"
      }
    },
    {
      "cell_type": "code",
      "source": [
        "! python train.py \\\n",
        "--dataset AirSim --scene campus_v3 --data_dir '/content/drive/MyDrive/Colab Notebooks/FYP/datasets' \\\n",
        "--config_file configs/mapnet.ini --model mapnet --device 0 \\\n",
        "--imu_mode Average \\\n",
        "--noisy_training None \\\n",
        "--suffix _imu_weight_1"
      ],
      "metadata": {
        "id": "iqZC8yFS7BQg"
      },
      "execution_count": null,
      "outputs": []
    },
    {
      "cell_type": "code",
      "source": [
        "! python train.py \\\n",
        "--dataset AirSim --scene campus_v3 --data_dir '/content/drive/MyDrive/Colab Notebooks/FYP/datasets' \\\n",
        "--config_file configs/mapnet.ini --model mapnet --device 0 \\\n",
        "--imu_mode Average \\\n",
        "--noisy_training v1 \\\n",
        "--suffix _imu_weight_1"
      ],
      "metadata": {
        "id": "EdddT0xC7Fay"
      },
      "execution_count": null,
      "outputs": []
    },
    {
      "cell_type": "markdown",
      "source": [
        "### Varying k"
      ],
      "metadata": {
        "id": "80l-bSoLvrWF"
      }
    },
    {
      "cell_type": "code",
      "source": [
        "! python train.py \\\n",
        "--dataset AirSim --scene campus_v3 --data_dir '/content/drive/MyDrive/Colab Notebooks/FYP/datasets' \\\n",
        "--config_file configs/mapnet.ini --model mapnet --device 0 \\\n",
        "--imu_mode None \\\n",
        "--noisy_training None \\\n",
        "--suffix _skip_30"
      ],
      "metadata": {
        "id": "7wqcpSG3Ge3C"
      },
      "execution_count": null,
      "outputs": []
    },
    {
      "cell_type": "code",
      "source": [
        "! python train.py \\\n",
        "--dataset AirSim --scene campus_v3 --data_dir '/content/drive/MyDrive/Colab Notebooks/FYP/datasets' \\\n",
        "--config_file configs/mapnet.ini --model mapnet --device 0 \\\n",
        "--imu_mode None \\\n",
        "--noisy_training v1 \\\n",
        "--suffix _skip_30"
      ],
      "metadata": {
        "id": "yn6rQz70GDHy"
      },
      "execution_count": null,
      "outputs": []
    },
    {
      "cell_type": "code",
      "source": [
        "! python train.py \\\n",
        "--dataset AirSim --scene campus_v3 --data_dir '/content/drive/MyDrive/Colab Notebooks/FYP/datasets' \\\n",
        "--config_file configs/mapnet.ini --model mapnet --device 0 \\\n",
        "--imu_mode Average \\\n",
        "--noisy_training v1 \\\n",
        "--suffix _skip_30"
      ],
      "metadata": {
        "id": "8U7HI-B1GY0t"
      },
      "execution_count": null,
      "outputs": []
    },
    {
      "cell_type": "code",
      "source": [
        "! python train.py \\\n",
        "--dataset AirSim --scene campus_v3 --data_dir '/content/drive/MyDrive/Colab Notebooks/FYP/datasets' \\\n",
        "--config_file configs/mapnet.ini --model mapnet --device 0 \\\n",
        "--imu_mode Average \\\n",
        "--noisy_training None \\\n",
        "--suffix _skip_30"
      ],
      "metadata": {
        "id": "6OyGIPCeWQQL"
      },
      "execution_count": null,
      "outputs": []
    },
    {
      "cell_type": "markdown",
      "metadata": {
        "id": "XnoA2FbfAGJ5"
      },
      "source": [
        "## Evaluation"
      ]
    },
    {
      "cell_type": "markdown",
      "source": [
        "### Baseline"
      ],
      "metadata": {
        "id": "OHPh_r1Xz9Bi"
      }
    },
    {
      "cell_type": "code",
      "source": [
        "! python eval.py \\\n",
        "--dataset AirSim --scene campus_v3 --data_dir '/content/drive/MyDrive/Colab Notebooks/FYP/datasets' \\\n",
        "--config_file configs/mapnet.ini --model mapnet --output_dir results/ \\\n",
        "--weights logs/AirSim_campus_v3_mapnet_mapnet_imu_None_noisy_None/epoch_100.pth.tar \\\n",
        "--val --imu_mode None \\\n",
        "--plot_3d"
      ],
      "metadata": {
        "id": "WhYKQMd54LAA"
      },
      "execution_count": null,
      "outputs": []
    },
    {
      "cell_type": "code",
      "source": [
        "! python eval.py \\\n",
        "--dataset AirSim --scene campus_v3 --data_dir '/content/drive/MyDrive/Colab Notebooks/FYP/datasets' \\\n",
        "--config_file configs/mapnet.ini --model mapnet --output_dir results/ \\\n",
        "--weights logs/AirSim_campus_v3_mapnet_mapnet_imu_None_noisy_v1/epoch_100.pth.tar \\\n",
        "--val --imu_mode None \\\n",
        "--plot_3d"
      ],
      "metadata": {
        "id": "Lj7rccja0Hwo"
      },
      "execution_count": null,
      "outputs": []
    },
    {
      "cell_type": "markdown",
      "source": [
        "### Weighted Average alpha = 0.5"
      ],
      "metadata": {
        "id": "5qKhHD4P1-2Y"
      }
    },
    {
      "cell_type": "code",
      "source": [
        "! python eval.py \\\n",
        "--dataset AirSim --scene campus_v3 --data_dir '/content/drive/MyDrive/Colab Notebooks/FYP/datasets' \\\n",
        "--config_file configs/mapnet.ini --model mapnet --output_dir results/ \\\n",
        "--weights logs/AirSim_campus_v3_mapnet_mapnet_imu_Average_noisy_None/epoch_100.pth.tar \\\n",
        "--val --imu_mode None \\\n",
        "--plot_3d"
      ],
      "metadata": {
        "id": "B03I94Ht1jxR"
      },
      "execution_count": null,
      "outputs": []
    },
    {
      "cell_type": "code",
      "source": [
        "! python eval.py \\\n",
        "--dataset AirSim --scene campus_v3 --data_dir '/content/drive/MyDrive/Colab Notebooks/FYP/datasets' \\\n",
        "--config_file configs/mapnet.ini --model mapnet --output_dir results/ \\\n",
        "--weights logs/AirSim_campus_v3_mapnet_mapnet_imu_Average_noisy_v1/epoch_100.pth.tar \\\n",
        "--val --imu_mode None \\\n",
        "--plot_3d"
      ],
      "metadata": {
        "id": "EXiv29jp1jXT"
      },
      "execution_count": null,
      "outputs": []
    },
    {
      "cell_type": "markdown",
      "source": [
        "### Weighted Average alpha = 1.0"
      ],
      "metadata": {
        "id": "3oMunOxH2DOn"
      }
    },
    {
      "cell_type": "code",
      "source": [
        "! python eval.py \\\n",
        "--dataset AirSim --scene campus_v3 --data_dir '/content/drive/MyDrive/Colab Notebooks/FYP/datasets' \\\n",
        "--config_file configs/mapnet.ini --model mapnet --output_dir results/ \\\n",
        "--weights logs/AirSim_campus_v3_mapnet_mapnet_imu_Average_noisy_None_imu_weight_1/epoch_100.pth.tar \\\n",
        "--val --imu_mode Average \\\n",
        "--plot_3d"
      ],
      "metadata": {
        "id": "7Z_dkQm7YYJS"
      },
      "execution_count": null,
      "outputs": []
    },
    {
      "cell_type": "code",
      "source": [
        "! python eval.py \\\n",
        "--dataset AirSim --scene campus_v3 --data_dir '/content/drive/MyDrive/Colab Notebooks/FYP/datasets' \\\n",
        "--config_file configs/mapnet.ini --model mapnet --output_dir results/ \\\n",
        "--weights logs/AirSim_campus_v3_mapnet_mapnet_imu_Average_noisy_v1_imu_weight_1/epoch_100.pth.tar \\\n",
        "--val --imu_mode Average \\\n",
        "--plot_3d"
      ],
      "metadata": {
        "id": "Gk8vBsHnYfGP"
      },
      "execution_count": null,
      "outputs": []
    },
    {
      "cell_type": "markdown",
      "source": [
        "### Varying k"
      ],
      "metadata": {
        "id": "2BoDv5Lq2Eju"
      }
    },
    {
      "cell_type": "code",
      "source": [
        "! python eval.py \\\n",
        "--dataset AirSim --scene campus_v3 --data_dir '/content/drive/MyDrive/Colab Notebooks/FYP/datasets' \\\n",
        "--config_file configs/mapnet.ini --model mapnet --output_dir results/ \\\n",
        "--weights logs/AirSim_campus_v3_mapnet_mapnet_imu_None_noisy_None_skip_30/epoch_100.pth.tar \\\n",
        "--val --imu_mode None \\\n",
        "--plot_3d"
      ],
      "metadata": {
        "id": "hD58Didd7xeg"
      },
      "execution_count": null,
      "outputs": []
    },
    {
      "cell_type": "code",
      "source": [
        "! python eval.py \\\n",
        "--dataset AirSim --scene campus_v3 --data_dir '/content/drive/MyDrive/Colab Notebooks/FYP/datasets' \\\n",
        "--config_file configs/mapnet.ini --model mapnet --output_dir results/ \\\n",
        "--weights logs/AirSim_campus_v3_mapnet_mapnet_imu_None_noisy_v1_skip_30/epoch_100.pth.tar \\\n",
        "--val --imu_mode None \\\n",
        "--plot_3d"
      ],
      "metadata": {
        "id": "Vr1Y9K3F7x1j"
      },
      "execution_count": null,
      "outputs": []
    },
    {
      "cell_type": "code",
      "source": [
        "! python eval.py \\\n",
        "--dataset AirSim --scene campus_v3 --data_dir '/content/drive/MyDrive/Colab Notebooks/FYP/datasets' \\\n",
        "--config_file configs/mapnet.ini --model mapnet --output_dir results/ \\\n",
        "--weights logs/AirSim_campus_v3_mapnet_mapnet_imu_Average_noisy_None_skip_30/epoch_100.pth.tar \\\n",
        "--val --imu_mode None \\\n",
        "--plot_3d"
      ],
      "metadata": {
        "id": "PjnLB_Lf7yJe"
      },
      "execution_count": null,
      "outputs": []
    },
    {
      "cell_type": "code",
      "source": [
        "! python eval.py \\\n",
        "--dataset AirSim --scene campus_v3 --data_dir '/content/drive/MyDrive/Colab Notebooks/FYP/datasets' \\\n",
        "--config_file configs/mapnet.ini --model mapnet --output_dir results/ \\\n",
        "--weights logs/AirSim_campus_v3_mapnet_mapnet_imu_Average_noisy_v1_skip_30/epoch_100.pth.tar \\\n",
        "--val --imu_mode None \\\n",
        "--plot_3d"
      ],
      "metadata": {
        "id": "R1wQEDQn7yhZ"
      },
      "execution_count": null,
      "outputs": []
    }
  ],
  "metadata": {
    "accelerator": "GPU",
    "colab": {
      "collapsed_sections": [],
      "name": "IMUMapNet_real_world_experiments.ipynb",
      "provenance": [],
      "toc_visible": true
    },
    "kernelspec": {
      "display_name": "Python 3",
      "name": "python3"
    },
    "language_info": {
      "name": "python"
    }
  },
  "nbformat": 4,
  "nbformat_minor": 0
}