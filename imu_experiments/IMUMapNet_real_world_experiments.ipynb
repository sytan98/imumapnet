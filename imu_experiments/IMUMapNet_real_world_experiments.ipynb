{
  "cells": [
    {
      "cell_type": "code",
      "execution_count": 1,
      "metadata": {
        "id": "opKv1sPVXI_r",
        "colab": {
          "base_uri": "https://localhost:8080/"
        },
        "outputId": "d7eccce2-812f-4709-d3ac-8113d524da8b"
      },
      "outputs": [
        {
          "output_type": "stream",
          "name": "stdout",
          "text": [
            "Mounted at /content/drive\n"
          ]
        }
      ],
      "source": [
        "from google.colab import drive\n",
        "drive.mount('/content/drive')"
      ]
    },
    {
      "cell_type": "code",
      "execution_count": 2,
      "metadata": {
        "id": "ij9vPqVcY9oQ"
      },
      "outputs": [],
      "source": [
        "import os\n",
        "os.chdir('/content/drive/My Drive/Colab Notebooks/FYP/imumapnet')"
      ]
    },
    {
      "cell_type": "code",
      "execution_count": 3,
      "metadata": {
        "id": "ZQnoxC5rZiAY",
        "colab": {
          "base_uri": "https://localhost:8080/"
        },
        "outputId": "2a1babe9-18f4-45c2-ff47-567bf049f506"
      },
      "outputs": [
        {
          "output_type": "stream",
          "name": "stdout",
          "text": [
            "Looking in indexes: https://pypi.org/simple, https://us-python.pkg.dev/colab-wheels/public/simple/\n",
            "Collecting transforms3d\n",
            "  Downloading transforms3d-0.3.1.tar.gz (62 kB)\n",
            "\u001b[K     |████████████████████████████████| 62 kB 1.5 MB/s \n",
            "\u001b[?25hBuilding wheels for collected packages: transforms3d\n",
            "  Building wheel for transforms3d (setup.py) ... \u001b[?25l\u001b[?25hdone\n",
            "  Created wheel for transforms3d: filename=transforms3d-0.3.1-py3-none-any.whl size=59373 sha256=fa0cbcf579891ff1d1b1fd594e890adb9069b54229ed263b9b1a0d421e3e37b6\n",
            "  Stored in directory: /root/.cache/pip/wheels/b5/b7/93/8985551f83720ce37548a5b543c75380bb707955a9c2c5d28c\n",
            "Successfully built transforms3d\n",
            "Installing collected packages: transforms3d\n",
            "Successfully installed transforms3d-0.3.1\n",
            "Looking in indexes: https://pypi.org/simple, https://us-python.pkg.dev/colab-wheels/public/simple/\n",
            "Collecting rowan\n",
            "  Downloading rowan-1.3.0.post1-py2.py3-none-any.whl (28 kB)\n",
            "Requirement already satisfied: numpy>=1.15 in /usr/local/lib/python3.7/dist-packages (from rowan) (1.21.6)\n",
            "Installing collected packages: rowan\n",
            "Successfully installed rowan-1.3.0.post1\n",
            "Looking in indexes: https://pypi.org/simple, https://us-python.pkg.dev/colab-wheels/public/simple/\n",
            "Collecting pyquaternion\n",
            "  Downloading pyquaternion-0.9.9-py3-none-any.whl (14 kB)\n",
            "Requirement already satisfied: numpy in /usr/local/lib/python3.7/dist-packages (from pyquaternion) (1.21.6)\n",
            "Installing collected packages: pyquaternion\n",
            "Successfully installed pyquaternion-0.9.9\n"
          ]
        }
      ],
      "source": [
        "! pip install transforms3d\n",
        "! pip install rowan\n",
        "! pip install pyquaternion"
      ]
    },
    {
      "cell_type": "code",
      "execution_count": 4,
      "metadata": {
        "id": "6-cWVIwJCzlP",
        "colab": {
          "base_uri": "https://localhost:8080/"
        },
        "outputId": "cb047291-28ea-4157-e72b-6facbb924f41"
      },
      "outputs": [
        {
          "output_type": "stream",
          "name": "stdout",
          "text": [
            "/content/drive/My Drive/Colab Notebooks/FYP/imumapnet/scripts\n"
          ]
        }
      ],
      "source": [
        "%cd scripts"
      ]
    },
    {
      "cell_type": "code",
      "execution_count": null,
      "metadata": {
        "id": "jOoCBbHUN32A"
      },
      "outputs": [],
      "source": [
        "%load_ext tensorboard\n",
        "%tensorboard --logdir=./"
      ]
    },
    {
      "cell_type": "markdown",
      "metadata": {
        "id": "TRltAfiGY-GX"
      },
      "source": [
        "# Real-world"
      ]
    },
    {
      "cell_type": "markdown",
      "metadata": {
        "id": "0v8ML-akse4s"
      },
      "source": [
        "## Training"
      ]
    },
    {
      "cell_type": "code",
      "execution_count": null,
      "metadata": {
        "id": "D3zmGBQMGucp"
      },
      "outputs": [],
      "source": [
        "gpu_info = !nvidia-smi\n",
        "gpu_info = '\\n'.join(gpu_info)\n",
        "if gpu_info.find('failed') >= 0:\n",
        "  print('Not connected to a GPU')\n",
        "else:\n",
        "  print(gpu_info)"
      ]
    },
    {
      "cell_type": "markdown",
      "source": [
        "### Baseline"
      ],
      "metadata": {
        "id": "7lG-kvWzvpl5"
      }
    },
    {
      "cell_type": "code",
      "source": [
        "! python train.py \\\n",
        "--dataset AirSim --scene campus --data_dir '/content/drive/MyDrive/Colab Notebooks/FYP/datasets' \\\n",
        "--config_file configs/mapnet.ini --model mapnet --device 0 \\\n",
        "--imu_mode None \\\n",
        "--noisy_training None "
      ],
      "metadata": {
        "id": "gUqLW2PEwckY"
      },
      "execution_count": null,
      "outputs": []
    },
    {
      "cell_type": "code",
      "source": [
        "! python train.py \\\n",
        "--dataset AirSim --scene campus --data_dir '/content/drive/MyDrive/Colab Notebooks/FYP/datasets' \\\n",
        "--config_file configs/mapnet.ini --model mapnet --device 0 \\\n",
        "--imu_mode None \\\n",
        "--noisy_training v1 "
      ],
      "metadata": {
        "id": "9B8O2ORQweN1"
      },
      "execution_count": null,
      "outputs": []
    },
    {
      "cell_type": "markdown",
      "source": [
        "### Weighted Average alpha = 0.5\n"
      ],
      "metadata": {
        "id": "_wqsj7GDF-9N"
      }
    },
    {
      "cell_type": "code",
      "source": [
        "! python train.py \\\n",
        "--dataset AirSim --scene campus --data_dir '/content/drive/MyDrive/Colab Notebooks/FYP/datasets' \\\n",
        "--config_file configs/mapnet.ini --model mapnet --device 0 \\\n",
        "--imu_mode Average \\\n",
        "--noisy_training None \\\n",
        "--suffix _imu_weight_0_5"
      ],
      "metadata": {
        "id": "P1YAbWVlv_MA"
      },
      "execution_count": null,
      "outputs": []
    },
    {
      "cell_type": "code",
      "source": [
        "! python train.py \\\n",
        "--dataset AirSim --scene campus --data_dir '/content/drive/MyDrive/Colab Notebooks/FYP/datasets' \\\n",
        "--config_file configs/mapnet.ini --model mapnet --device 0 \\\n",
        "--imu_mode Average \\\n",
        "--noisy_training v1 \\\n",
        "--suffix _imu_weight_0_5"
      ],
      "metadata": {
        "id": "oEYPk8edwAK7"
      },
      "execution_count": null,
      "outputs": []
    },
    {
      "cell_type": "markdown",
      "source": [
        "### Weighted Average alpha = 1.0"
      ],
      "metadata": {
        "id": "BaSZRfKjvleD"
      }
    },
    {
      "cell_type": "code",
      "source": [
        "! python train.py \\\n",
        "--dataset AirSim --scene campus --data_dir '/content/drive/MyDrive/Colab Notebooks/FYP/datasets' \\\n",
        "--config_file configs/mapnet.ini --model mapnet --device 0 \\\n",
        "--imu_mode Average \\\n",
        "--noisy_training None \\\n",
        "--suffix _imu_weight_1"
      ],
      "metadata": {
        "id": "iqZC8yFS7BQg"
      },
      "execution_count": null,
      "outputs": []
    },
    {
      "cell_type": "code",
      "source": [
        "! python train.py \\\n",
        "--dataset AirSim --scene campus --data_dir '/content/drive/MyDrive/Colab Notebooks/FYP/datasets' \\\n",
        "--config_file configs/mapnet.ini --model mapnet --device 0 \\\n",
        "--imu_mode Average \\\n",
        "--noisy_training v1 \\\n",
        "--suffix _imu_weight_1"
      ],
      "metadata": {
        "id": "EdddT0xC7Fay"
      },
      "execution_count": null,
      "outputs": []
    },
    {
      "cell_type": "markdown",
      "source": [
        "### Varying k"
      ],
      "metadata": {
        "id": "80l-bSoLvrWF"
      }
    },
    {
      "cell_type": "code",
      "source": [
        "! python train.py \\\n",
        "--dataset AirSim --scene campus --data_dir '/content/drive/MyDrive/Colab Notebooks/FYP/datasets' \\\n",
        "--config_file configs/mapnet.ini --model mapnet --device 0 \\\n",
        "--imu_mode None \\\n",
        "--noisy_training None \\\n",
        "--suffix _skip_30"
      ],
      "metadata": {
        "id": "7wqcpSG3Ge3C"
      },
      "execution_count": null,
      "outputs": []
    },
    {
      "cell_type": "code",
      "source": [
        "! python train.py \\\n",
        "--dataset AirSim --scene campus --data_dir '/content/drive/MyDrive/Colab Notebooks/FYP/datasets' \\\n",
        "--config_file configs/mapnet.ini --model mapnet --device 0 \\\n",
        "--imu_mode None \\\n",
        "--noisy_training v1 \\\n",
        "--suffix _skip_30"
      ],
      "metadata": {
        "id": "yn6rQz70GDHy"
      },
      "execution_count": null,
      "outputs": []
    },
    {
      "cell_type": "code",
      "source": [
        "! python train.py \\\n",
        "--dataset AirSim --scene campus --data_dir '/content/drive/MyDrive/Colab Notebooks/FYP/datasets' \\\n",
        "--config_file configs/mapnet.ini --model mapnet --device 0 \\\n",
        "--imu_mode Average \\\n",
        "--noisy_training v1 \\\n",
        "--suffix _skip_30"
      ],
      "metadata": {
        "id": "8U7HI-B1GY0t"
      },
      "execution_count": null,
      "outputs": []
    },
    {
      "cell_type": "code",
      "source": [
        "! python train.py \\\n",
        "--dataset AirSim --scene campus --data_dir '/content/drive/MyDrive/Colab Notebooks/FYP/datasets' \\\n",
        "--config_file configs/mapnet.ini --model mapnet --device 0 \\\n",
        "--imu_mode Average \\\n",
        "--noisy_training None \\\n",
        "--suffix _skip_30"
      ],
      "metadata": {
        "id": "6OyGIPCeWQQL"
      },
      "execution_count": null,
      "outputs": []
    },
    {
      "cell_type": "markdown",
      "metadata": {
        "id": "XnoA2FbfAGJ5"
      },
      "source": [
        "## Evaluation"
      ]
    },
    {
      "cell_type": "markdown",
      "source": [
        "### Baseline"
      ],
      "metadata": {
        "id": "OHPh_r1Xz9Bi"
      }
    },
    {
      "cell_type": "code",
      "source": [
        "! python eval.py \\\n",
        "--dataset AirSim --scene campus --data_dir '/content/drive/MyDrive/Colab Notebooks/FYP/datasets' \\\n",
        "--config_file configs/mapnet.ini --model mapnet --output_dir results/ \\\n",
        "--weights ../../models/AirSim_campus_mapnet_mapnet_imu_None_noisy_None/epoch_100.pth.tar \\\n",
        "--val --imu_mode None \\\n",
        "--plot_3d"
      ],
      "metadata": {
        "id": "WhYKQMd54LAA",
        "colab": {
          "base_uri": "https://localhost:8080/"
        },
        "outputId": "3ce13f8e-8353-4491-e6c5-1f1b9cf652cd"
      },
      "execution_count": 7,
      "outputs": [
        {
          "output_type": "stream",
          "name": "stdout",
          "text": [
            "Loaded weights from ../../models/AirSim_campus_mapnet_mapnet_imu_None_noisy_None/epoch_100.pth.tar\n",
            "Running mapnet on VAL data\n",
            "Image 0 / 419\n",
            "Image 200 / 419\n",
            "Image 400 / 419\n",
            "Error in translation: median 0.38 m,  mean 0.38 m\n",
            "Error in rotation: median 12.13 degrees, mean 15.33 degree\n",
            "results/AirSim_campus_mapnet.png saved\n",
            "results/AirSim_campus_mapnet.pkl written\n"
          ]
        }
      ]
    },
    {
      "cell_type": "code",
      "source": [
        "! python eval.py \\\n",
        "--dataset AirSim --scene campus --data_dir '/content/drive/MyDrive/Colab Notebooks/FYP/datasets' \\\n",
        "--config_file configs/mapnet.ini --model mapnet --output_dir results/ \\\n",
        "--weights ../../models/AirSim_campus_mapnet_mapnet_imu_None_noisy_v1/epoch_100.pth.tar \\\n",
        "--val --imu_mode None \\\n",
        "--plot_3d"
      ],
      "metadata": {
        "id": "Lj7rccja0Hwo",
        "colab": {
          "base_uri": "https://localhost:8080/"
        },
        "outputId": "e5720c12-d6a5-477d-bc6e-d387ebf6cbec"
      },
      "execution_count": 8,
      "outputs": [
        {
          "output_type": "stream",
          "name": "stdout",
          "text": [
            "Loaded weights from ../../models/AirSim_campus_mapnet_mapnet_imu_None_noisy_v1/epoch_100.pth.tar\n",
            "Running mapnet on VAL data\n",
            "Image 0 / 419\n",
            "Image 200 / 419\n",
            "Image 400 / 419\n",
            "Error in translation: median 0.41 m,  mean 0.40 m\n",
            "Error in rotation: median 15.57 degrees, mean 17.27 degree\n",
            "results/AirSim_campus_mapnet.png saved\n",
            "results/AirSim_campus_mapnet.pkl written\n"
          ]
        }
      ]
    },
    {
      "cell_type": "markdown",
      "source": [
        "### Weighted Average alpha = 0.5"
      ],
      "metadata": {
        "id": "5qKhHD4P1-2Y"
      }
    },
    {
      "cell_type": "code",
      "source": [
        "! python eval.py \\\n",
        "--dataset AirSim --scene campus --data_dir '/content/drive/MyDrive/Colab Notebooks/FYP/datasets' \\\n",
        "--config_file configs/mapnet.ini --model mapnet --output_dir results/ \\\n",
        "--weights ../../models/AirSim_campus_mapnet_mapnet_imu_Average_noisy_None/epoch_100.pth.tar \\\n",
        "--val --imu_mode None \\\n",
        "--plot_3d"
      ],
      "metadata": {
        "id": "B03I94Ht1jxR",
        "colab": {
          "base_uri": "https://localhost:8080/"
        },
        "outputId": "bd8927ca-fea5-41d4-db7f-fb7e5633756f"
      },
      "execution_count": 9,
      "outputs": [
        {
          "output_type": "stream",
          "name": "stdout",
          "text": [
            "Loaded weights from ../../models/AirSim_campus_mapnet_mapnet_imu_Average_noisy_None/epoch_100.pth.tar\n",
            "Running mapnet on VAL data\n",
            "Image 0 / 419\n",
            "Image 200 / 419\n",
            "Image 400 / 419\n",
            "Error in translation: median 0.41 m,  mean 0.39 m\n",
            "Error in rotation: median 11.66 degrees, mean 14.15 degree\n",
            "results/AirSim_campus_mapnet.png saved\n",
            "results/AirSim_campus_mapnet.pkl written\n"
          ]
        }
      ]
    },
    {
      "cell_type": "code",
      "source": [
        "! python eval.py \\\n",
        "--dataset AirSim --scene campus --data_dir '/content/drive/MyDrive/Colab Notebooks/FYP/datasets' \\\n",
        "--config_file configs/mapnet.ini --model mapnet --output_dir results/ \\\n",
        "--weights ../../models/AirSim_campus_mapnet_mapnet_imu_Average_noisy_v1/epoch_100.pth.tar \\\n",
        "--val --imu_mode None \\\n",
        "--plot_3d"
      ],
      "metadata": {
        "id": "EXiv29jp1jXT",
        "colab": {
          "base_uri": "https://localhost:8080/"
        },
        "outputId": "b653f756-90d5-4c07-b4f4-9cc3c8558340"
      },
      "execution_count": 10,
      "outputs": [
        {
          "output_type": "stream",
          "name": "stdout",
          "text": [
            "Loaded weights from ../../models/AirSim_campus_mapnet_mapnet_imu_Average_noisy_v1/epoch_100.pth.tar\n",
            "Running mapnet on VAL data\n",
            "Image 0 / 419\n",
            "Image 200 / 419\n",
            "Image 400 / 419\n",
            "Error in translation: median 0.40 m,  mean 0.40 m\n",
            "Error in rotation: median 14.35 degrees, mean 15.30 degree\n",
            "results/AirSim_campus_mapnet.png saved\n",
            "results/AirSim_campus_mapnet.pkl written\n"
          ]
        }
      ]
    },
    {
      "cell_type": "markdown",
      "source": [
        "### Weighted Average alpha = 1.0"
      ],
      "metadata": {
        "id": "3oMunOxH2DOn"
      }
    },
    {
      "cell_type": "code",
      "source": [
        "! python eval.py \\\n",
        "--dataset AirSim --scene campus --data_dir '/content/drive/MyDrive/Colab Notebooks/FYP/datasets' \\\n",
        "--config_file configs/mapnet.ini --model mapnet --output_dir results/ \\\n",
        "--weights ../../models/AirSim_campus_mapnet_mapnet_imu_Average_noisy_None_imu_weight_1/epoch_100.pth.tar \\\n",
        "--val --imu_mode Average \\\n",
        "--plot_3d"
      ],
      "metadata": {
        "id": "7Z_dkQm7YYJS",
        "colab": {
          "base_uri": "https://localhost:8080/"
        },
        "outputId": "fe1bdeeb-52a1-4e02-d691-bc4b234b6891"
      },
      "execution_count": 11,
      "outputs": [
        {
          "output_type": "stream",
          "name": "stdout",
          "text": [
            "Loaded weights from ../../models/AirSim_campus_mapnet_mapnet_imu_Average_noisy_None_imu_weight_1/epoch_100.pth.tar\n",
            "Running mapnet on VAL data\n",
            "Image 0 / 419\n",
            "Image 200 / 419\n",
            "Image 400 / 419\n",
            "Error in translation: median 0.30 m,  mean 0.31 m\n",
            "Error in rotation: median 14.32 degrees, mean 16.09 degree\n",
            "results/AirSim_campus_mapnet.png saved\n",
            "results/AirSim_campus_mapnet.pkl written\n"
          ]
        }
      ]
    },
    {
      "cell_type": "code",
      "source": [
        "! python eval.py \\\n",
        "--dataset AirSim --scene campus --data_dir '/content/drive/MyDrive/Colab Notebooks/FYP/datasets' \\\n",
        "--config_file configs/mapnet.ini --model mapnet --output_dir results/ \\\n",
        "--weights ../../models/AirSim_campus_mapnet_mapnet_imu_Average_noisy_v1_imu_weight_1/epoch_100.pth.tar \\\n",
        "--val --imu_mode Average \\\n",
        "--plot_3d"
      ],
      "metadata": {
        "id": "Gk8vBsHnYfGP",
        "colab": {
          "base_uri": "https://localhost:8080/"
        },
        "outputId": "65784497-c1d4-42e3-b67b-0ef417a2a5b3"
      },
      "execution_count": 12,
      "outputs": [
        {
          "output_type": "stream",
          "name": "stdout",
          "text": [
            "Loaded weights from ../../models/AirSim_campus_mapnet_mapnet_imu_Average_noisy_v1_imu_weight_1/epoch_100.pth.tar\n",
            "Running mapnet on VAL data\n",
            "Image 0 / 419\n",
            "Image 200 / 419\n",
            "Image 400 / 419\n",
            "Error in translation: median 0.32 m,  mean 0.32 m\n",
            "Error in rotation: median 17.00 degrees, mean 20.23 degree\n",
            "results/AirSim_campus_mapnet.png saved\n",
            "results/AirSim_campus_mapnet.pkl written\n"
          ]
        }
      ]
    },
    {
      "cell_type": "markdown",
      "source": [
        "### Varying k"
      ],
      "metadata": {
        "id": "2BoDv5Lq2Eju"
      }
    },
    {
      "cell_type": "code",
      "source": [
        "! python eval.py \\\n",
        "--dataset AirSim --scene campus --data_dir '/content/drive/MyDrive/Colab Notebooks/FYP/datasets' \\\n",
        "--config_file configs/mapnet.ini --model mapnet --output_dir results/ \\\n",
        "--weights ../../models/AirSim_campus_mapnet_mapnet_imu_None_noisy_None_skip_30/epoch_100.pth.tar \\\n",
        "--val --imu_mode None \\\n",
        "--plot_3d"
      ],
      "metadata": {
        "id": "hD58Didd7xeg",
        "colab": {
          "base_uri": "https://localhost:8080/"
        },
        "outputId": "c2760b1f-8e00-498a-d4f4-839520521778"
      },
      "execution_count": 13,
      "outputs": [
        {
          "output_type": "stream",
          "name": "stdout",
          "text": [
            "Loaded weights from ../../models/AirSim_campus_mapnet_mapnet_imu_None_noisy_None_skip_30/epoch_100.pth.tar\n",
            "Running mapnet on VAL data\n",
            "Image 0 / 419\n",
            "Image 200 / 419\n",
            "Image 400 / 419\n",
            "Error in translation: median 0.37 m,  mean 0.37 m\n",
            "Error in rotation: median 15.46 degrees, mean 17.42 degree\n",
            "results/AirSim_campus_mapnet.png saved\n",
            "results/AirSim_campus_mapnet.pkl written\n"
          ]
        }
      ]
    },
    {
      "cell_type": "code",
      "source": [
        "! python eval.py \\\n",
        "--dataset AirSim --scene campus --data_dir '/content/drive/MyDrive/Colab Notebooks/FYP/datasets' \\\n",
        "--config_file configs/mapnet.ini --model mapnet --output_dir results/ \\\n",
        "--weights ../../models/AirSim_campus_mapnet_mapnet_imu_None_noisy_v1_skip_30/epoch_100.pth.tar \\\n",
        "--val --imu_mode None \\\n",
        "--plot_3d"
      ],
      "metadata": {
        "id": "Vr1Y9K3F7x1j",
        "colab": {
          "base_uri": "https://localhost:8080/"
        },
        "outputId": "165a9627-dc4a-4559-bff1-ad2dd8695758"
      },
      "execution_count": 14,
      "outputs": [
        {
          "output_type": "stream",
          "name": "stdout",
          "text": [
            "Loaded weights from ../../models/AirSim_campus_mapnet_mapnet_imu_None_noisy_v1_skip_30/epoch_100.pth.tar\n",
            "Running mapnet on VAL data\n",
            "Image 0 / 419\n",
            "Image 200 / 419\n",
            "Image 400 / 419\n",
            "Error in translation: median 0.35 m,  mean 0.35 m\n",
            "Error in rotation: median 17.17 degrees, mean 18.63 degree\n",
            "results/AirSim_campus_mapnet.png saved\n",
            "results/AirSim_campus_mapnet.pkl written\n"
          ]
        }
      ]
    },
    {
      "cell_type": "code",
      "source": [
        "! python eval.py \\\n",
        "--dataset AirSim --scene campus --data_dir '/content/drive/MyDrive/Colab Notebooks/FYP/datasets' \\\n",
        "--config_file configs/mapnet.ini --model mapnet --output_dir results/ \\\n",
        "--weights ../../models/AirSim_campus_mapnet_mapnet_imu_Average_noisy_None_skip_30/epoch_100.pth.tar \\\n",
        "--val --imu_mode None \\\n",
        "--plot_3d"
      ],
      "metadata": {
        "id": "PjnLB_Lf7yJe",
        "colab": {
          "base_uri": "https://localhost:8080/"
        },
        "outputId": "862efcf1-a907-4010-b799-81b7e4b15802"
      },
      "execution_count": 15,
      "outputs": [
        {
          "output_type": "stream",
          "name": "stdout",
          "text": [
            "Loaded weights from ../../models/AirSim_campus_mapnet_mapnet_imu_Average_noisy_None_skip_30/epoch_100.pth.tar\n",
            "Running mapnet on VAL data\n",
            "Image 0 / 419\n",
            "Image 200 / 419\n",
            "Image 400 / 419\n",
            "Error in translation: median 0.31 m,  mean 0.33 m\n",
            "Error in rotation: median 13.37 degrees, mean 14.97 degree\n",
            "results/AirSim_campus_mapnet.png saved\n",
            "results/AirSim_campus_mapnet.pkl written\n"
          ]
        }
      ]
    },
    {
      "cell_type": "code",
      "source": [
        "! python eval.py \\\n",
        "--dataset AirSim --scene campus --data_dir '/content/drive/MyDrive/Colab Notebooks/FYP/datasets' \\\n",
        "--config_file configs/mapnet.ini --model mapnet --output_dir results/ \\\n",
        "--weights ../../models/AirSim_campus_mapnet_mapnet_imu_Average_noisy_v1_skip_30/epoch_100.pth.tar \\\n",
        "--val --imu_mode None \\\n",
        "--plot_3d"
      ],
      "metadata": {
        "id": "R1wQEDQn7yhZ",
        "colab": {
          "base_uri": "https://localhost:8080/"
        },
        "outputId": "fb64bc11-8426-4afe-9879-4b0e0cabd77d"
      },
      "execution_count": 16,
      "outputs": [
        {
          "output_type": "stream",
          "name": "stdout",
          "text": [
            "Loaded weights from ../../models/AirSim_campus_mapnet_mapnet_imu_Average_noisy_v1_skip_30/epoch_100.pth.tar\n",
            "Running mapnet on VAL data\n",
            "Image 0 / 419\n",
            "Image 200 / 419\n",
            "Image 400 / 419\n",
            "Error in translation: median 0.33 m,  mean 0.35 m\n",
            "Error in rotation: median 11.78 degrees, mean 13.17 degree\n",
            "results/AirSim_campus_mapnet.png saved\n",
            "results/AirSim_campus_mapnet.pkl written\n"
          ]
        }
      ]
    }
  ],
  "metadata": {
    "accelerator": "GPU",
    "colab": {
      "collapsed_sections": [],
      "name": "IMUMapNet_real_world_experiments.ipynb",
      "provenance": [],
      "toc_visible": true
    },
    "kernelspec": {
      "display_name": "Python 3",
      "name": "python3"
    },
    "language_info": {
      "name": "python"
    }
  },
  "nbformat": 4,
  "nbformat_minor": 0
}