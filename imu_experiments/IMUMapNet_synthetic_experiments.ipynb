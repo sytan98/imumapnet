{
  "cells": [
    {
      "cell_type": "code",
      "execution_count": 1,
      "metadata": {
        "id": "opKv1sPVXI_r",
        "colab": {
          "base_uri": "https://localhost:8080/"
        },
        "outputId": "ab8962eb-cb80-4a75-9f30-b5f7208b98a8"
      },
      "outputs": [
        {
          "output_type": "stream",
          "name": "stdout",
          "text": [
            "Mounted at /content/drive\n"
          ]
        }
      ],
      "source": [
        "from google.colab import drive\n",
        "drive.mount('/content/drive')"
      ]
    },
    {
      "cell_type": "code",
      "execution_count": 7,
      "metadata": {
        "id": "ij9vPqVcY9oQ"
      },
      "outputs": [],
      "source": [
        "import os\n",
        "os.chdir('/content/drive/My Drive/Colab Notebooks/FYP/imumapnet')"
      ]
    },
    {
      "cell_type": "code",
      "source": [
        "! pip install transforms3d\n",
        "! pip install rowan\n",
        "! pip install pyquaternion"
      ],
      "metadata": {
        "colab": {
          "base_uri": "https://localhost:8080/"
        },
        "id": "MzsKgRKl9Erf",
        "outputId": "02773fbb-8d10-4745-fdee-4c7f89275fb6"
      },
      "execution_count": 4,
      "outputs": [
        {
          "output_type": "stream",
          "name": "stdout",
          "text": [
            "Looking in indexes: https://pypi.org/simple, https://us-python.pkg.dev/colab-wheels/public/simple/\n",
            "Collecting transforms3d\n",
            "  Downloading transforms3d-0.3.1.tar.gz (62 kB)\n",
            "\u001b[K     |████████████████████████████████| 62 kB 1.1 MB/s \n",
            "\u001b[?25hBuilding wheels for collected packages: transforms3d\n",
            "  Building wheel for transforms3d (setup.py) ... \u001b[?25l\u001b[?25hdone\n",
            "  Created wheel for transforms3d: filename=transforms3d-0.3.1-py3-none-any.whl size=59373 sha256=2da644501a9085e11f482281f5737fdc5d018898ba86e7da6db6bcf1991319cb\n",
            "  Stored in directory: /root/.cache/pip/wheels/b5/b7/93/8985551f83720ce37548a5b543c75380bb707955a9c2c5d28c\n",
            "Successfully built transforms3d\n",
            "Installing collected packages: transforms3d\n",
            "Successfully installed transforms3d-0.3.1\n",
            "Looking in indexes: https://pypi.org/simple, https://us-python.pkg.dev/colab-wheels/public/simple/\n",
            "Collecting rowan\n",
            "  Downloading rowan-1.3.0.post1-py2.py3-none-any.whl (28 kB)\n",
            "Requirement already satisfied: numpy>=1.15 in /usr/local/lib/python3.7/dist-packages (from rowan) (1.21.6)\n",
            "Installing collected packages: rowan\n",
            "Successfully installed rowan-1.3.0.post1\n",
            "Looking in indexes: https://pypi.org/simple, https://us-python.pkg.dev/colab-wheels/public/simple/\n",
            "Collecting pyquaternion\n",
            "  Downloading pyquaternion-0.9.9-py3-none-any.whl (14 kB)\n",
            "Requirement already satisfied: numpy in /usr/local/lib/python3.7/dist-packages (from pyquaternion) (1.21.6)\n",
            "Installing collected packages: pyquaternion\n",
            "Successfully installed pyquaternion-0.9.9\n"
          ]
        }
      ]
    },
    {
      "cell_type": "code",
      "source": [
        "%cd scripts"
      ],
      "metadata": {
        "id": "6-cWVIwJCzlP",
        "colab": {
          "base_uri": "https://localhost:8080/"
        },
        "outputId": "b7c03089-2ac6-4ca3-c549-f7da660bc4b4"
      },
      "execution_count": 8,
      "outputs": [
        {
          "output_type": "stream",
          "name": "stdout",
          "text": [
            "/content/drive/My Drive/Colab Notebooks/FYP/imumapnet/scripts\n"
          ]
        }
      ]
    },
    {
      "cell_type": "code",
      "source": [
        "%load_ext tensorboard\n",
        "%tensorboard --logdir=./"
      ],
      "metadata": {
        "id": "jOoCBbHUN32A"
      },
      "execution_count": null,
      "outputs": []
    },
    {
      "cell_type": "markdown",
      "metadata": {
        "id": "TRltAfiGY-GX"
      },
      "source": [
        "# Building_99"
      ]
    },
    {
      "cell_type": "markdown",
      "metadata": {
        "id": "0v8ML-akse4s"
      },
      "source": [
        "## Training"
      ]
    },
    {
      "cell_type": "code",
      "source": [
        "gpu_info = !nvidia-smi\n",
        "gpu_info = '\\n'.join(gpu_info)\n",
        "if gpu_info.find('failed') >= 0:\n",
        "  print('Not connected to a GPU')\n",
        "else:\n",
        "  print(gpu_info)"
      ],
      "metadata": {
        "id": "TzxJg9yEoPPY"
      },
      "execution_count": null,
      "outputs": []
    },
    {
      "cell_type": "markdown",
      "source": [
        "### Baseline"
      ],
      "metadata": {
        "id": "sASGFTuF-I5q"
      }
    },
    {
      "cell_type": "code",
      "source": [
        "! python train.py \\\n",
        "--dataset AirSim --scene building --data_dir '/content/drive/MyDrive/Colab Notebooks/FYP/datasets' \\\n",
        "--config_file configs/mapnet.ini --model mapnet --device 0 \\\n",
        "--imu_mode None \\\n",
        "--noisy_training None \\"
      ],
      "metadata": {
        "id": "HMGNyMPT4NbN"
      },
      "execution_count": null,
      "outputs": []
    },
    {
      "cell_type": "code",
      "source": [
        "! python train.py \\\n",
        "--dataset AirSim --scene building --data_dir '/content/drive/MyDrive/Colab Notebooks/FYP/datasets' \\\n",
        "--config_file configs/mapnet.ini --model mapnet --device 0 \\\n",
        "--imu_mode None \\\n",
        "--noisy_training v1 \\"
      ],
      "metadata": {
        "id": "Y4rzRz0KjBhR"
      },
      "execution_count": null,
      "outputs": []
    },
    {
      "cell_type": "code",
      "source": [
        "! python train.py \\\n",
        "--dataset AirSim --scene building --data_dir '/content/drive/MyDrive/Colab Notebooks/FYP/datasets' \\\n",
        "--config_file configs/mapnet.ini --model mapnet --device 0 \\\n",
        "--imu_mode None \\\n",
        "--noisy_training v2 \\"
      ],
      "metadata": {
        "id": "JK6yATthOzid"
      },
      "execution_count": null,
      "outputs": []
    },
    {
      "cell_type": "markdown",
      "source": [
        "### Weighted Average alpha = 0.5"
      ],
      "metadata": {
        "id": "k9W1Ec0UAzVE"
      }
    },
    {
      "cell_type": "code",
      "source": [
        "! python train.py \\\n",
        "--dataset AirSim --scene building --data_dir '/content/drive/MyDrive/Colab Notebooks/FYP/datasets' \\\n",
        "--config_file configs/mapnet.ini --model mapnet --device 0 \\\n",
        "--imu_mode Average \\\n",
        "--noisy_training None \\\n",
        "--suffix _imu_weight_0_5 \\"
      ],
      "metadata": {
        "id": "mjBreHRgP7tV"
      },
      "execution_count": null,
      "outputs": []
    },
    {
      "cell_type": "code",
      "source": [
        "! python train.py \\\n",
        "--dataset AirSim --scene building --data_dir '/content/drive/MyDrive/Colab Notebooks/FYP/datasets' \\\n",
        "--config_file configs/mapnet.ini --model mapnet --device 0 \\\n",
        "--imu_mode Average \\\n",
        "--noisy_training v1 \\\n",
        "--suffix _imu_weight_0_5 \\"
      ],
      "metadata": {
        "id": "H1YVYRd7AW7j"
      },
      "execution_count": null,
      "outputs": []
    },
    {
      "cell_type": "code",
      "source": [
        "! python train.py \\\n",
        "--dataset AirSim --scene building --data_dir '/content/drive/MyDrive/Colab Notebooks/FYP/datasets' \\\n",
        "--config_file configs/mapnet.ini --model mapnet --device 0 \\\n",
        "--imu_mode Average \\\n",
        "--noisy_training v2 \\\n",
        "--suffix _imu_weight_0_5 \\"
      ],
      "metadata": {
        "id": "_OUStCKfAYId"
      },
      "execution_count": null,
      "outputs": []
    },
    {
      "cell_type": "markdown",
      "source": [
        "### Weighted Average alpha = 0.75"
      ],
      "metadata": {
        "id": "Vkv4pFXDYxSA"
      }
    },
    {
      "cell_type": "code",
      "source": [
        "! python train.py \\\n",
        "--dataset AirSim --scene building --data_dir '/content/drive/MyDrive/Colab Notebooks/FYP/datasets' \\\n",
        "--config_file configs/mapnet.ini --model mapnet --device 0 \\\n",
        "--imu_mode Average \\\n",
        "--noisy_training None \\\n",
        "--suffix _imu_weight_0_75 \\"
      ],
      "metadata": {
        "id": "vin13wINY0RR"
      },
      "execution_count": null,
      "outputs": []
    },
    {
      "cell_type": "code",
      "source": [
        "! python train.py \\\n",
        "--dataset AirSim --scene building --data_dir '/content/drive/MyDrive/Colab Notebooks/FYP/datasets' \\\n",
        "--config_file configs/mapnet.ini --model mapnet --device 0 \\\n",
        "--imu_mode Average \\\n",
        "--noisy_training v1 \\\n",
        "--suffix _imu_weight_0_75 \\"
      ],
      "metadata": {
        "id": "ZdEsUJAqY0OT"
      },
      "execution_count": null,
      "outputs": []
    },
    {
      "cell_type": "code",
      "source": [
        "! python train.py \\\n",
        "--dataset AirSim --scene building --data_dir '/content/drive/MyDrive/Colab Notebooks/FYP/datasets' \\\n",
        "--config_file configs/mapnet.ini --model mapnet --device 0 \\\n",
        "--imu_mode Average \\\n",
        "--noisy_training v2 \\\n",
        "--suffix _imu_weight_0_75 \\"
      ],
      "metadata": {
        "id": "sqlKufwga662"
      },
      "execution_count": null,
      "outputs": []
    },
    {
      "cell_type": "markdown",
      "source": [
        "### Weighted Average alpha = 1.0\n"
      ],
      "metadata": {
        "id": "RbS9EcLVZpa8"
      }
    },
    {
      "cell_type": "code",
      "source": [
        "! python train.py \\\n",
        "--dataset AirSim --scene building --data_dir '/content/drive/MyDrive/Colab Notebooks/FYP/datasets' \\\n",
        "--config_file configs/mapnet.ini --model mapnet --device 0 \\\n",
        "--imu_mode Average \\\n",
        "--noisy_training None \\\n",
        "--suffix _imu_weight_1 \\"
      ],
      "metadata": {
        "id": "KQ-F8rxsZtTw"
      },
      "execution_count": null,
      "outputs": []
    },
    {
      "cell_type": "code",
      "source": [
        "! python train.py \\\n",
        "--dataset AirSim --scene building --data_dir '/content/drive/MyDrive/Colab Notebooks/FYP/datasets' \\\n",
        "--config_file configs/mapnet.ini --model mapnet --device 0 \\\n",
        "--imu_mode Average \\\n",
        "--noisy_training v1 \\\n",
        "--suffix _imu_weight_1 \\"
      ],
      "metadata": {
        "id": "uYSI1yf3ZvXI"
      },
      "execution_count": null,
      "outputs": []
    },
    {
      "cell_type": "code",
      "source": [
        "! python train.py \\\n",
        "--dataset AirSim --scene building --data_dir '/content/drive/MyDrive/Colab Notebooks/FYP/datasets' \\\n",
        "--config_file configs/mapnet.ini --model mapnet --device 0 \\\n",
        "--imu_mode Average \\\n",
        "--noisy_training v2 \\\n",
        "--suffix _imu_weight_1 \\"
      ],
      "metadata": {
        "id": "O4BmvYDpZv7s"
      },
      "execution_count": null,
      "outputs": []
    },
    {
      "cell_type": "markdown",
      "source": [
        "### Separate"
      ],
      "metadata": {
        "id": "MA6AOSthAxaB"
      }
    },
    {
      "cell_type": "code",
      "source": [
        "! python train.py \\\n",
        "--dataset AirSim --scene building --data_dir '/content/drive/MyDrive/Colab Notebooks/FYP/datasets' \\\n",
        "--config_file configs/mapnet.ini --model mapnet --device 0 \\\n",
        "--imu_mode Separate \\\n",
        "--noisy_training None \\\n",
        "--average_method Simple "
      ],
      "metadata": {
        "id": "nAUDFsxIAxIZ"
      },
      "execution_count": null,
      "outputs": []
    },
    {
      "cell_type": "code",
      "source": [
        "! python train.py \\\n",
        "--dataset AirSim --scene building --data_dir '/content/drive/MyDrive/Colab Notebooks/FYP/datasets' \\\n",
        "--config_file configs/mapnet.ini --model mapnet --device 0 \\\n",
        "--imu_mode Separate \\\n",
        "--noisy_training v1 \\\n",
        "--average_method Simple "
      ],
      "metadata": {
        "id": "RnAwE8T6A35j"
      },
      "execution_count": null,
      "outputs": []
    },
    {
      "cell_type": "code",
      "source": [
        "! python train.py \\\n",
        "--dataset AirSim --scene building --data_dir '/content/drive/MyDrive/Colab Notebooks/FYP/datasets' \\\n",
        "--config_file configs/mapnet.ini --model mapnet --device 0 \\\n",
        "--imu_mode Separate \\\n",
        "--noisy_training v2 \\\n",
        "--average_method Simple "
      ],
      "metadata": {
        "id": "Foygmem3MkG5"
      },
      "execution_count": null,
      "outputs": []
    },
    {
      "cell_type": "markdown",
      "source": [
        "### Varying skip = 10"
      ],
      "metadata": {
        "id": "8Fx3M1AX1-WB"
      }
    },
    {
      "cell_type": "code",
      "source": [
        "! python train.py \\\n",
        "--dataset AirSim --scene building --data_dir '/content/drive/MyDrive/Colab Notebooks/FYP/datasets' \\\n",
        "--config_file configs/mapnet.ini --model mapnet --device 0 \\\n",
        "--imu_mode None \\\n",
        "--noisy_training None \\\n",
        "--suffix _skip_10"
      ],
      "metadata": {
        "id": "SPpI8HEV2Ax2"
      },
      "execution_count": null,
      "outputs": []
    },
    {
      "cell_type": "code",
      "source": [
        "! python train.py \\\n",
        "--dataset AirSim --scene building --data_dir '/content/drive/MyDrive/Colab Notebooks/FYP/datasets' \\\n",
        "--config_file configs/mapnet.ini --model mapnet --device 0 \\\n",
        "--imu_mode None \\\n",
        "--noisy_training v1 \\\n",
        "--suffix _skip_10"
      ],
      "metadata": {
        "id": "gJhKqcOM6wTA"
      },
      "execution_count": null,
      "outputs": []
    },
    {
      "cell_type": "code",
      "source": [
        "! python train.py \\\n",
        "--dataset AirSim --scene building --data_dir '/content/drive/MyDrive/Colab Notebooks/FYP/datasets' \\\n",
        "--config_file configs/mapnet.ini --model mapnet --device 0 \\\n",
        "--imu_mode None \\\n",
        "--noisy_training v2 \\\n",
        "--suffix _skip_10"
      ],
      "metadata": {
        "id": "2RJU48L261im"
      },
      "execution_count": null,
      "outputs": []
    },
    {
      "cell_type": "code",
      "source": [
        "! python train.py \\\n",
        "--dataset AirSim --scene building --data_dir '/content/drive/MyDrive/Colab Notebooks/FYP/datasets' \\\n",
        "--config_file configs/mapnet.ini --model mapnet --device 0 \\\n",
        "--imu_mode Average \\\n",
        "--noisy_training None \\\n",
        "--suffix _imu_weight_0_5_skip_10"
      ],
      "metadata": {
        "id": "tFxKjfKH6tI6"
      },
      "execution_count": null,
      "outputs": []
    },
    {
      "cell_type": "code",
      "source": [
        "! python train.py \\\n",
        "--dataset AirSim --scene building --data_dir '/content/drive/MyDrive/Colab Notebooks/FYP/datasets' \\\n",
        "--config_file configs/mapnet.ini --model mapnet --device 0 \\\n",
        "--imu_mode Average \\\n",
        "--noisy_training v1 \\\n",
        "--suffix _imu_weight_0_5_skip_10"
      ],
      "metadata": {
        "id": "gAyv65pB2C-z"
      },
      "execution_count": null,
      "outputs": []
    },
    {
      "cell_type": "code",
      "source": [
        "! python train.py \\\n",
        "--dataset AirSim --scene building --data_dir '/content/drive/MyDrive/Colab Notebooks/FYP/datasets' \\\n",
        "--config_file configs/mapnet.ini --model mapnet --device 0 \\\n",
        "--imu_mode Average \\\n",
        "--noisy_training v2 \\\n",
        "--suffix _imu_weight_0_5_skip_10 \\"
      ],
      "metadata": {
        "id": "IJqKEDro2DWD"
      },
      "execution_count": null,
      "outputs": []
    },
    {
      "cell_type": "markdown",
      "source": [
        "## Evaluation"
      ],
      "metadata": {
        "id": "XnoA2FbfAGJ5"
      }
    },
    {
      "cell_type": "markdown",
      "source": [
        "### Baseline"
      ],
      "metadata": {
        "id": "bTv_1Wr74vt8"
      }
    },
    {
      "cell_type": "code",
      "source": [
        "! python eval.py \\\n",
        "--dataset AirSim --scene building --data_dir '/content/drive/MyDrive/Colab Notebooks/FYP/datasets' \\\n",
        "--config_file configs/mapnet.ini --model mapnet --output_dir results/ \\\n",
        "--weights ../../models/AirSim_building_mapnet_mapnet_imu_None_noisy_None/epoch_100.pth.tar \\\n",
        "--val --imu_mode None   \\\n",
        "--plot_3d"
      ],
      "metadata": {
        "id": "xn2EK3O-AHM3",
        "colab": {
          "base_uri": "https://localhost:8080/"
        },
        "outputId": "e61f9b44-47e1-4d98-fbb0-af3731beebd6"
      },
      "execution_count": 17,
      "outputs": [
        {
          "output_type": "stream",
          "name": "stdout",
          "text": [
            "Loaded weights from ../../models/AirSim_building_mapnet_mapnet_imu_None_noisy_None/epoch_100.pth.tar\n",
            "Running mapnet on VAL data\n",
            "Image 0 / 311\n",
            "Image 200 / 311\n",
            "Error in translation: median 1.46 m,  mean 1.58 m\n",
            "Error in rotation: median 10.81 degrees, mean 16.26 degree\n",
            "results/AirSim_building_mapnet.png saved\n",
            "results/AirSim_building_mapnet.pkl written\n"
          ]
        }
      ]
    },
    {
      "cell_type": "code",
      "source": [
        "! python eval.py \\\n",
        "--dataset AirSim --scene building --data_dir '/content/drive/MyDrive/Colab Notebooks/FYP/datasets' \\\n",
        "--config_file configs/mapnet.ini --model mapnet --output_dir results/ \\\n",
        "--weights ../../models/AirSim_building_mapnet_mapnet_imu_None_noisy_v1/epoch_100.pth.tar \\\n",
        "--val --imu_mode None   \\\n",
        "--plot_3d"
      ],
      "metadata": {
        "id": "XN0r64j_iDv9",
        "colab": {
          "base_uri": "https://localhost:8080/"
        },
        "outputId": "2ea57f94-32c5-4a29-8ac1-774ed8deaf5d"
      },
      "execution_count": 22,
      "outputs": [
        {
          "output_type": "stream",
          "name": "stdout",
          "text": [
            "Loaded weights from ../../models/AirSim_building_mapnet_mapnet_imu_None_noisy_v1/epoch_100.pth.tar\n",
            "Running mapnet on VAL data\n",
            "Image 0 / 311\n",
            "Image 200 / 311\n",
            "Error in translation: median 1.52 m,  mean 1.84 m\n",
            "Error in rotation: median 11.32 degrees, mean 17.51 degree\n",
            "results/AirSim_building_mapnet.png saved\n",
            "results/AirSim_building_mapnet.pkl written\n"
          ]
        }
      ]
    },
    {
      "cell_type": "code",
      "source": [
        "! python eval.py \\\n",
        "--dataset AirSim --scene building --data_dir '/content/drive/MyDrive/Colab Notebooks/FYP/datasets' \\\n",
        "--config_file configs/mapnet.ini --model mapnet --output_dir results/ \\\n",
        "--weights ../../models/AirSim_building_mapnet_mapnet_imu_None_noisy_v2/epoch_100.pth.tar \\\n",
        "--val --imu_mode None \\\n",
        "# --plot_3d "
      ],
      "metadata": {
        "id": "kok_QFvlIBQK",
        "colab": {
          "base_uri": "https://localhost:8080/"
        },
        "outputId": "d98467e7-6c18-4aa9-819b-d3f5b90b026d"
      },
      "execution_count": 23,
      "outputs": [
        {
          "output_type": "stream",
          "name": "stdout",
          "text": [
            "Loaded weights from ../../models/AirSim_building_mapnet_mapnet_imu_None_noisy_v2/epoch_100.pth.tar\n",
            "Running mapnet on VAL data\n",
            "Image 0 / 311\n",
            "Image 200 / 311\n",
            "Error in translation: median 1.58 m,  mean 1.92 m\n",
            "Error in rotation: median 15.71 degrees, mean 21.77 degree\n",
            "results/AirSim_building_mapnet.png saved\n",
            "results/AirSim_building_mapnet.pkl written\n"
          ]
        }
      ]
    },
    {
      "cell_type": "markdown",
      "source": [
        "### Weighted Average alpha = 0.25"
      ],
      "metadata": {
        "id": "DbwPmXtJoA_g"
      }
    },
    {
      "cell_type": "code",
      "source": [
        "! python eval.py \\\n",
        "--dataset AirSim --scene building --data_dir '/content/drive/MyDrive/Colab Notebooks/FYP/datasets' \\\n",
        "--config_file configs/mapnet.ini --model mapnet --output_dir results/ \\\n",
        "--weights ../../models/AirSim_building_mapnet_mapnet_imu_Average_noisy_None_imu_weight_0_25/epoch_100.pth.tar \\\n",
        "--val --imu_mode Average \\\n",
        "# --plot_3d "
      ],
      "metadata": {
        "id": "1eU0wj3coD0f",
        "colab": {
          "base_uri": "https://localhost:8080/"
        },
        "outputId": "e244b8e3-f837-4a4c-f385-7d422f61050e"
      },
      "execution_count": 24,
      "outputs": [
        {
          "output_type": "stream",
          "name": "stdout",
          "text": [
            "Loaded weights from ../../models/AirSim_building_mapnet_mapnet_imu_Average_noisy_None_imu_weight_0_25/epoch_100.pth.tar\n",
            "Running mapnet on VAL data\n",
            "Image 0 / 311\n",
            "Image 200 / 311\n",
            "Error in translation: median 1.28 m,  mean 1.58 m\n",
            "Error in rotation: median 8.99 degrees, mean 13.65 degree\n",
            "results/AirSim_building_mapnet.png saved\n",
            "results/AirSim_building_mapnet.pkl written\n"
          ]
        }
      ]
    },
    {
      "cell_type": "code",
      "source": [
        "! python eval.py \\\n",
        "--dataset AirSim --scene building --data_dir '/content/drive/MyDrive/Colab Notebooks/FYP/datasets' \\\n",
        "--config_file configs/mapnet.ini --model mapnet --output_dir results/ \\\n",
        "--weights ../../models/AirSim_building_mapnet_mapnet_imu_Average_noisy_v1_imu_weight_0_25/epoch_100.pth.tar \\\n",
        "--val --imu_mode Average \\\n",
        "# --plot_3d "
      ],
      "metadata": {
        "id": "d4acePXcoIPZ",
        "colab": {
          "base_uri": "https://localhost:8080/"
        },
        "outputId": "f10c76da-e093-40cb-efbb-a7afed86333c"
      },
      "execution_count": 29,
      "outputs": [
        {
          "output_type": "stream",
          "name": "stdout",
          "text": [
            "Loaded weights from ../../models/AirSim_building_mapnet_mapnet_imu_Average_noisy_v1_imu_weight_0_25/epoch_100.pth.tar\n",
            "Running mapnet on VAL data\n",
            "Image 0 / 311\n",
            "Image 200 / 311\n",
            "Error in translation: median 1.41 m,  mean 1.74 m\n",
            "Error in rotation: median 12.33 degrees, mean 17.50 degree\n",
            "results/AirSim_building_mapnet.png saved\n",
            "results/AirSim_building_mapnet.pkl written\n"
          ]
        }
      ]
    },
    {
      "cell_type": "code",
      "source": [
        "! python eval.py \\\n",
        "--dataset AirSim --scene building --data_dir '/content/drive/MyDrive/Colab Notebooks/FYP/datasets' \\\n",
        "--config_file configs/mapnet.ini --model mapnet --output_dir results/ \\\n",
        "--weights ../../models/AirSim_building_mapnet_mapnet_imu_Average_noisy_v2_imu_weight_0_25/epoch_100.pth.tar \\\n",
        "--val --imu_mode Average \\\n",
        "# --plot_3d "
      ],
      "metadata": {
        "id": "GRlDUmUToLhZ",
        "colab": {
          "base_uri": "https://localhost:8080/"
        },
        "outputId": "cd16aa7e-6881-4560-8623-482b4e9989c9"
      },
      "execution_count": 25,
      "outputs": [
        {
          "output_type": "stream",
          "name": "stdout",
          "text": [
            "Loaded weights from ../../models/AirSim_building_mapnet_mapnet_imu_Average_noisy_v2_imu_weight_0_25/epoch_100.pth.tar\n",
            "Running mapnet on VAL data\n",
            "Image 0 / 311\n",
            "Image 200 / 311\n",
            "Error in translation: median 1.49 m,  mean 1.84 m\n",
            "Error in rotation: median 10.98 degrees, mean 17.26 degree\n",
            "results/AirSim_building_mapnet.png saved\n",
            "results/AirSim_building_mapnet.pkl written\n"
          ]
        }
      ]
    },
    {
      "cell_type": "markdown",
      "source": [
        "### Weighted Average alpha = 0.5"
      ],
      "metadata": {
        "id": "_BwsML3f4SYs"
      }
    },
    {
      "cell_type": "code",
      "source": [
        "! python eval.py \\\n",
        "--dataset AirSim --scene building --data_dir '/content/drive/MyDrive/Colab Notebooks/FYP/datasets' \\\n",
        "--config_file configs/mapnet.ini --model mapnet --output_dir results/ \\\n",
        "--weights ../../models/AirSim_building_mapnet_mapnet_imu_Average_noisy_None_imu_weight_0_5/epoch_100.pth.tar \\\n",
        "--val --imu_mode Average \\\n",
        "--plot_3d "
      ],
      "metadata": {
        "id": "EbA2wa_cs79n",
        "colab": {
          "base_uri": "https://localhost:8080/"
        },
        "outputId": "543d12ba-83ad-43fd-b4eb-ee6bf8a15bba"
      },
      "execution_count": 26,
      "outputs": [
        {
          "output_type": "stream",
          "name": "stdout",
          "text": [
            "Loaded weights from ../../models/AirSim_building_mapnet_mapnet_imu_Average_noisy_None_imu_weight_0_5/epoch_100.pth.tar\n",
            "Running mapnet on VAL data\n",
            "Image 0 / 311\n",
            "Image 200 / 311\n",
            "Error in translation: median 1.41 m,  mean 1.67 m\n",
            "Error in rotation: median 9.56 degrees, mean 13.44 degree\n",
            "results/AirSim_building_mapnet.png saved\n",
            "results/AirSim_building_mapnet.pkl written\n"
          ]
        }
      ]
    },
    {
      "cell_type": "code",
      "source": [
        "! python eval.py \\\n",
        "--dataset AirSim --scene building --data_dir '/content/drive/MyDrive/Colab Notebooks/FYP/datasets' \\\n",
        "--config_file configs/mapnet.ini --model mapnet --output_dir results/ \\\n",
        "--weights ../../models/AirSim_building_mapnet_mapnet_imu_Average_noisy_v1_imu_weight_0_5/epoch_100.pth.tar \\\n",
        "--val --imu_mode Average \\\n",
        "--plot_3d "
      ],
      "metadata": {
        "id": "9hWK-ekS-GM_",
        "colab": {
          "base_uri": "https://localhost:8080/"
        },
        "outputId": "05fbb1f1-a9a0-4591-ad77-975e5ca9e5e8"
      },
      "execution_count": 27,
      "outputs": [
        {
          "output_type": "stream",
          "name": "stdout",
          "text": [
            "Loaded weights from ../../models/AirSim_building_mapnet_mapnet_imu_Average_noisy_v1_imu_weight_0_5/epoch_100.pth.tar\n",
            "Running mapnet on VAL data\n",
            "Image 0 / 311\n",
            "Image 200 / 311\n",
            "Error in translation: median 1.44 m,  mean 1.74 m\n",
            "Error in rotation: median 10.34 degrees, mean 14.73 degree\n",
            "results/AirSim_building_mapnet.png saved\n",
            "results/AirSim_building_mapnet.pkl written\n"
          ]
        }
      ]
    },
    {
      "cell_type": "code",
      "source": [
        "! python eval.py \\\n",
        "--dataset AirSim --scene building --data_dir '/content/drive/MyDrive/Colab Notebooks/FYP/datasets' \\\n",
        "--config_file configs/mapnet.ini --model mapnet --output_dir results/ \\\n",
        "--weights ../../models/AirSim_building_mapnet_mapnet_imu_Average_noisy_v2_imu_weight_0_5/epoch_100.pth.tar \\\n",
        "--val --imu_mode Average \\\n",
        "# --plot_3d "
      ],
      "metadata": {
        "id": "ABGLpzV34WoC",
        "colab": {
          "base_uri": "https://localhost:8080/"
        },
        "outputId": "c8eb5a49-49a1-435f-9651-5b4a427f80aa"
      },
      "execution_count": 28,
      "outputs": [
        {
          "output_type": "stream",
          "name": "stdout",
          "text": [
            "Loaded weights from ../../models/AirSim_building_mapnet_mapnet_imu_Average_noisy_v2_imu_weight_0_5/epoch_100.pth.tar\n",
            "Running mapnet on VAL data\n",
            "Image 0 / 311\n",
            "Image 200 / 311\n",
            "Error in translation: median 1.59 m,  mean 1.77 m\n",
            "Error in rotation: median 12.25 degrees, mean 20.61 degree\n",
            "results/AirSim_building_mapnet.png saved\n",
            "results/AirSim_building_mapnet.pkl written\n"
          ]
        }
      ]
    },
    {
      "cell_type": "markdown",
      "source": [
        "### Weighted Average alpha = 0.75"
      ],
      "metadata": {
        "id": "JU47d4cVhJpg"
      }
    },
    {
      "cell_type": "code",
      "source": [
        "! python eval.py \\\n",
        "--dataset AirSim --scene building --data_dir '/content/drive/MyDrive/Colab Notebooks/FYP/datasets' \\\n",
        "--config_file configs/mapnet.ini --model mapnet --output_dir results/ \\\n",
        "--weights ../../models/AirSim_building_mapnet_mapnet_imu_Average_noisy_None_imu_weight_0_75/epoch_100.pth.tar \\\n",
        "--val --imu_mode Average \\\n",
        "# --plot_3d "
      ],
      "metadata": {
        "id": "oK4UvJ8ShJNT",
        "colab": {
          "base_uri": "https://localhost:8080/"
        },
        "outputId": "76b8a658-2695-40d0-b466-3431953ba8da"
      },
      "execution_count": 30,
      "outputs": [
        {
          "output_type": "stream",
          "name": "stdout",
          "text": [
            "Loaded weights from ../../models/AirSim_building_mapnet_mapnet_imu_Average_noisy_None_imu_weight_0_75/epoch_100.pth.tar\n",
            "Running mapnet on VAL data\n",
            "Image 0 / 311\n",
            "Image 200 / 311\n",
            "Error in translation: median 1.35 m,  mean 1.59 m\n",
            "Error in rotation: median 10.03 degrees, mean 15.66 degree\n",
            "results/AirSim_building_mapnet.png saved\n",
            "results/AirSim_building_mapnet.pkl written\n"
          ]
        }
      ]
    },
    {
      "cell_type": "code",
      "source": [
        "! python eval.py \\\n",
        "--dataset AirSim --scene building --data_dir '/content/drive/MyDrive/Colab Notebooks/FYP/datasets' \\\n",
        "--config_file configs/mapnet.ini --model mapnet --output_dir results/ \\\n",
        "--weights ../../models/AirSim_building_mapnet_mapnet_imu_Average_noisy_v1_imu_weight_0_75/epoch_100.pth.tar \\\n",
        "--val --imu_mode Average \\\n",
        "# --plot_3d "
      ],
      "metadata": {
        "id": "iFAvRbL_hOQH",
        "colab": {
          "base_uri": "https://localhost:8080/"
        },
        "outputId": "190c6b7a-2b5d-4d7f-b3c7-02932b7330c9"
      },
      "execution_count": 31,
      "outputs": [
        {
          "output_type": "stream",
          "name": "stdout",
          "text": [
            "Loaded weights from ../../models/AirSim_building_mapnet_mapnet_imu_Average_noisy_v1_imu_weight_0_75/epoch_100.pth.tar\n",
            "Running mapnet on VAL data\n",
            "Image 0 / 311\n",
            "Image 200 / 311\n",
            "Error in translation: median 1.47 m,  mean 1.74 m\n",
            "Error in rotation: median 8.63 degrees, mean 14.23 degree\n",
            "results/AirSim_building_mapnet.png saved\n",
            "results/AirSim_building_mapnet.pkl written\n"
          ]
        }
      ]
    },
    {
      "cell_type": "code",
      "source": [
        "! python eval.py \\\n",
        "--dataset AirSim --scene building --data_dir '/content/drive/MyDrive/Colab Notebooks/FYP/datasets' \\\n",
        "--config_file configs/mapnet.ini --model mapnet --output_dir results/ \\\n",
        "--weights ../../models/AirSim_building_mapnet_mapnet_imu_Average_noisy_v2_imu_weight_0_75/epoch_100.pth.tar \\\n",
        "--val --imu_mode Average \\\n",
        "# --plot_3d "
      ],
      "metadata": {
        "id": "7Ak-6flGhOKf",
        "colab": {
          "base_uri": "https://localhost:8080/"
        },
        "outputId": "f2c81808-8ac3-4aed-94c7-d29b0d58d546"
      },
      "execution_count": 32,
      "outputs": [
        {
          "output_type": "stream",
          "name": "stdout",
          "text": [
            "Loaded weights from ../../models/AirSim_building_mapnet_mapnet_imu_Average_noisy_v2_imu_weight_0_75/epoch_100.pth.tar\n",
            "Running mapnet on VAL data\n",
            "Image 0 / 311\n",
            "Image 200 / 311\n",
            "Error in translation: median 1.67 m,  mean 1.84 m\n",
            "Error in rotation: median 10.84 degrees, mean 15.13 degree\n",
            "results/AirSim_building_mapnet.png saved\n",
            "results/AirSim_building_mapnet.pkl written\n"
          ]
        }
      ]
    },
    {
      "cell_type": "markdown",
      "source": [
        "### Weighted Average alpha = 1.0"
      ],
      "metadata": {
        "id": "nmX-DjnIZ42d"
      }
    },
    {
      "cell_type": "code",
      "source": [
        "! python eval.py \\\n",
        "--dataset AirSim --scene building --data_dir '/content/drive/MyDrive/Colab Notebooks/FYP/datasets' \\\n",
        "--config_file configs/mapnet.ini --model mapnet --output_dir results/ \\\n",
        "--weights ../../models/AirSim_building_mapnet_mapnet_imu_Average_noisy_None_imu_weight_1/epoch_100.pth.tar \\\n",
        "--val --imu_mode Average \\\n",
        "# --plot_3d "
      ],
      "metadata": {
        "id": "CuBmpXDAZ8K7",
        "colab": {
          "base_uri": "https://localhost:8080/"
        },
        "outputId": "9f88c3d2-3d12-4e38-f01a-cf76ae0fd29a"
      },
      "execution_count": 33,
      "outputs": [
        {
          "output_type": "stream",
          "name": "stdout",
          "text": [
            "Loaded weights from ../../models/AirSim_building_mapnet_mapnet_imu_Average_noisy_None_imu_weight_1/epoch_100.pth.tar\n",
            "Running mapnet on VAL data\n",
            "Image 0 / 311\n",
            "Image 200 / 311\n",
            "Error in translation: median 1.35 m,  mean 1.58 m\n",
            "Error in rotation: median 8.68 degrees, mean 13.21 degree\n",
            "results/AirSim_building_mapnet.png saved\n",
            "results/AirSim_building_mapnet.pkl written\n"
          ]
        }
      ]
    },
    {
      "cell_type": "code",
      "source": [
        "! python eval.py \\\n",
        "--dataset AirSim --scene building --data_dir '/content/drive/MyDrive/Colab Notebooks/FYP/datasets' \\\n",
        "--config_file configs/mapnet.ini --model mapnet --output_dir results/ \\\n",
        "--weights ../../models/AirSim_building_mapnet_mapnet_imu_Average_noisy_v1_imu_weight_1/epoch_100.pth.tar \\\n",
        "--val --imu_mode Average \\\n",
        "# --plot_3d "
      ],
      "metadata": {
        "id": "5JefBCGbZ8qF",
        "colab": {
          "base_uri": "https://localhost:8080/"
        },
        "outputId": "36f2ab8f-7b91-414f-acb9-80ceab7edbed"
      },
      "execution_count": 34,
      "outputs": [
        {
          "output_type": "stream",
          "name": "stdout",
          "text": [
            "Loaded weights from ../../models/AirSim_building_mapnet_mapnet_imu_Average_noisy_v1_imu_weight_1/epoch_100.pth.tar\n",
            "Running mapnet on VAL data\n",
            "Image 0 / 311\n",
            "Image 200 / 311\n",
            "Error in translation: median 1.65 m,  mean 1.86 m\n",
            "Error in rotation: median 13.18 degrees, mean 17.78 degree\n",
            "results/AirSim_building_mapnet.png saved\n",
            "results/AirSim_building_mapnet.pkl written\n"
          ]
        }
      ]
    },
    {
      "cell_type": "code",
      "source": [
        "! python eval.py \\\n",
        "--dataset AirSim --scene building --data_dir '/content/drive/MyDrive/Colab Notebooks/FYP/datasets' \\\n",
        "--config_file configs/mapnet.ini --model mapnet --output_dir results/ \\\n",
        "--weights ../../models/AirSim_building_mapnet_mapnet_imu_Average_noisy_v2_imu_weight_1/epoch_100.pth.tar \\\n",
        "--val --imu_mode Average \\\n",
        "# --plot_3d "
      ],
      "metadata": {
        "id": "vtPWTSEIZ9Bz",
        "colab": {
          "base_uri": "https://localhost:8080/"
        },
        "outputId": "cfbee90f-a5dd-4886-a58c-eea964424bd3"
      },
      "execution_count": 35,
      "outputs": [
        {
          "output_type": "stream",
          "name": "stdout",
          "text": [
            "Loaded weights from ../../models/AirSim_building_mapnet_mapnet_imu_Average_noisy_v2_imu_weight_1/epoch_100.pth.tar\n",
            "Running mapnet on VAL data\n",
            "Image 0 / 311\n",
            "Image 200 / 311\n",
            "Error in translation: median 1.30 m,  mean 1.54 m\n",
            "Error in rotation: median 10.35 degrees, mean 14.35 degree\n",
            "results/AirSim_building_mapnet.png saved\n",
            "results/AirSim_building_mapnet.pkl written\n"
          ]
        }
      ]
    },
    {
      "cell_type": "markdown",
      "source": [
        "### Separate"
      ],
      "metadata": {
        "id": "FU4OS8tp4YDY"
      }
    },
    {
      "cell_type": "code",
      "source": [
        "! python eval.py \\\n",
        "--dataset AirSim --scene building --data_dir '/content/drive/MyDrive/Colab Notebooks/FYP/datasets' \\\n",
        "--config_file configs/mapnet.ini --model mapnet --output_dir results/ \\\n",
        "--weights ../../models/AirSim_building_mapnet_mapnet_imu_Separate_noisy_None/epoch_100.pth.tar \\\n",
        "--val --imu_mode Separate \\\n",
        "--average_method Simple\n",
        "# --plot_3d "
      ],
      "metadata": {
        "id": "8uF7LN4t4XhE",
        "colab": {
          "base_uri": "https://localhost:8080/"
        },
        "outputId": "704d95d4-09cb-42e6-894f-f6b7b43ac39a"
      },
      "execution_count": 36,
      "outputs": [
        {
          "output_type": "stream",
          "name": "stdout",
          "text": [
            "Loaded weights from ../../models/AirSim_building_mapnet_mapnet_imu_Separate_noisy_None/epoch_100.pth.tar\n",
            "Running mapnet on VAL data\n",
            "Image 0 / 311\n",
            "Image 200 / 311\n",
            "Error in translation: median 1.28 m,  mean 1.50 m\n",
            "Error in rotation: median 13.36 degrees, mean 20.78 degree\n",
            "results/AirSim_building_mapnet.png saved\n",
            "results/AirSim_building_mapnet.pkl written\n"
          ]
        }
      ]
    },
    {
      "cell_type": "code",
      "source": [
        "! python eval.py \\\n",
        "--dataset AirSim --scene building --data_dir '/content/drive/MyDrive/Colab Notebooks/FYP/datasets' \\\n",
        "--config_file configs/mapnet.ini --model mapnet --output_dir results/ \\\n",
        "--weights ../../models/AirSim_building_mapnet_mapnet_imu_Separate_noisy_None/epoch_100.pth.tar \\\n",
        "--val --imu_mode Separate \\\n",
        "--average_method Interpolate\n",
        "# --plot_3d "
      ],
      "metadata": {
        "id": "pQR0cxzl4i3_",
        "colab": {
          "base_uri": "https://localhost:8080/"
        },
        "outputId": "600e3dc4-2d4a-476b-de40-324757c1dfab"
      },
      "execution_count": 37,
      "outputs": [
        {
          "output_type": "stream",
          "name": "stdout",
          "text": [
            "Loaded weights from ../../models/AirSim_building_mapnet_mapnet_imu_Separate_noisy_None/epoch_100.pth.tar\n",
            "Running mapnet on VAL data\n",
            "Image 0 / 311\n",
            "Image 200 / 311\n",
            "Error in translation: median 1.28 m,  mean 1.50 m\n",
            "Error in rotation: median 13.66 degrees, mean 20.30 degree\n",
            "results/AirSim_building_mapnet.png saved\n",
            "results/AirSim_building_mapnet.pkl written\n"
          ]
        }
      ]
    },
    {
      "cell_type": "code",
      "source": [
        "! python eval.py \\\n",
        "--dataset AirSim --scene building --data_dir '/content/drive/MyDrive/Colab Notebooks/FYP/datasets' \\\n",
        "--config_file configs/mapnet.ini --model mapnet --output_dir results/ \\\n",
        "--weights ../../models/AirSim_building_mapnet_mapnet_imu_Separate_noisy_v1/epoch_100.pth.tar \\\n",
        "--val --imu_mode Separate \\\n",
        "--average_method Simple\n",
        "# --plot_3d "
      ],
      "metadata": {
        "id": "0no7EgxD6l5i",
        "colab": {
          "base_uri": "https://localhost:8080/"
        },
        "outputId": "1ff4c5e6-544e-40ab-d18a-1433b4f29d52"
      },
      "execution_count": 38,
      "outputs": [
        {
          "output_type": "stream",
          "name": "stdout",
          "text": [
            "Loaded weights from ../../models/AirSim_building_mapnet_mapnet_imu_Separate_noisy_v1/epoch_100.pth.tar\n",
            "Running mapnet on VAL data\n",
            "Image 0 / 311\n",
            "Image 200 / 311\n",
            "Error in translation: median 1.27 m,  mean 1.50 m\n",
            "Error in rotation: median 12.77 degrees, mean 22.66 degree\n",
            "results/AirSim_building_mapnet.png saved\n",
            "results/AirSim_building_mapnet.pkl written\n"
          ]
        }
      ]
    },
    {
      "cell_type": "code",
      "source": [
        "! python eval.py \\\n",
        "--dataset AirSim --scene building --data_dir '/content/drive/MyDrive/Colab Notebooks/FYP/datasets' \\\n",
        "--config_file configs/mapnet.ini --model mapnet --output_dir results/ \\\n",
        "--weights ../../models/AirSim_building_mapnet_mapnet_imu_Separate_noisy_v1/epoch_100.pth.tar \\\n",
        "--val --imu_mode Separate \\\n",
        "--average_method Interpolate\n",
        "# --plot_3d "
      ],
      "metadata": {
        "id": "nwzbyZRQ6mYV",
        "colab": {
          "base_uri": "https://localhost:8080/"
        },
        "outputId": "2d3261d5-ac96-4b9a-c784-cacc80ff2148"
      },
      "execution_count": 39,
      "outputs": [
        {
          "output_type": "stream",
          "name": "stdout",
          "text": [
            "Loaded weights from ../../models/AirSim_building_mapnet_mapnet_imu_Separate_noisy_v1/epoch_100.pth.tar\n",
            "Running mapnet on VAL data\n",
            "Image 0 / 311\n",
            "Image 200 / 311\n",
            "Error in translation: median 1.27 m,  mean 1.50 m\n",
            "Error in rotation: median 12.95 degrees, mean 21.63 degree\n",
            "results/AirSim_building_mapnet.png saved\n",
            "results/AirSim_building_mapnet.pkl written\n"
          ]
        }
      ]
    },
    {
      "cell_type": "code",
      "source": [
        "! python eval.py \\\n",
        "--dataset AirSim --scene building --data_dir '/content/drive/MyDrive/Colab Notebooks/FYP/datasets' \\\n",
        "--config_file configs/mapnet.ini --model mapnet --output_dir results/ \\\n",
        "--weights ../../models/AirSim_building_mapnet_mapnet_imu_Separate_noisy_v2/epoch_100.pth.tar \\\n",
        "--val --imu_mode Separate \\\n",
        "--average_method Simple\n",
        "# --plot_3d "
      ],
      "metadata": {
        "id": "DWZGwqUm6vts",
        "colab": {
          "base_uri": "https://localhost:8080/"
        },
        "outputId": "29750af9-d458-47f1-cd50-133e0a4e36db"
      },
      "execution_count": 40,
      "outputs": [
        {
          "output_type": "stream",
          "name": "stdout",
          "text": [
            "Loaded weights from ../../models/AirSim_building_mapnet_mapnet_imu_Separate_noisy_v2/epoch_100.pth.tar\n",
            "Running mapnet on VAL data\n",
            "Image 0 / 311\n",
            "Image 200 / 311\n",
            "Error in translation: median 1.43 m,  mean 1.76 m\n",
            "Error in rotation: median 17.46 degrees, mean 25.01 degree\n",
            "results/AirSim_building_mapnet.png saved\n",
            "results/AirSim_building_mapnet.pkl written\n"
          ]
        }
      ]
    },
    {
      "cell_type": "code",
      "source": [
        "! python eval.py \\\n",
        "--dataset AirSim --scene building --data_dir '/content/drive/MyDrive/Colab Notebooks/FYP/datasets' \\\n",
        "--config_file configs/mapnet.ini --model mapnet --output_dir results/ \\\n",
        "--weights ../../models/AirSim_building_mapnet_mapnet_imu_Separate_noisy_v2/epoch_100.pth.tar \\\n",
        "--val --imu_mode Separate \\\n",
        "--average_method Interpolate\n",
        "# --plot_3d "
      ],
      "metadata": {
        "id": "9ce_HM5B6yOS",
        "colab": {
          "base_uri": "https://localhost:8080/"
        },
        "outputId": "58771af2-95c4-483c-c4b7-1bbdaf4e588e"
      },
      "execution_count": 41,
      "outputs": [
        {
          "output_type": "stream",
          "name": "stdout",
          "text": [
            "Loaded weights from ../../models/AirSim_building_mapnet_mapnet_imu_Separate_noisy_v2/epoch_100.pth.tar\n",
            "Running mapnet on VAL data\n",
            "Image 0 / 311\n",
            "Image 200 / 311\n",
            "Error in translation: median 1.43 m,  mean 1.76 m\n",
            "Error in rotation: median 17.20 degrees, mean 24.69 degree\n",
            "results/AirSim_building_mapnet.png saved\n",
            "results/AirSim_building_mapnet.pkl written\n"
          ]
        }
      ]
    },
    {
      "cell_type": "markdown",
      "source": [
        "### Varying skip = 10"
      ],
      "metadata": {
        "id": "vOdwaPhwfmBO"
      }
    },
    {
      "cell_type": "code",
      "source": [
        "! python eval.py \\\n",
        "--dataset AirSim --scene building --data_dir '/content/drive/MyDrive/Colab Notebooks/FYP/datasets' \\\n",
        "--config_file configs/mapnet.ini --model mapnet --output_dir results/ \\\n",
        "--weights ../../models/AirSim_building_mapnet_mapnet_imu_None_noisy_None_skip_10/epoch_100.pth.tar \\\n",
        "--val --imu_mode None \\\n",
        "# --plot_3d "
      ],
      "metadata": {
        "id": "J_m3LcdgC_c-",
        "colab": {
          "base_uri": "https://localhost:8080/"
        },
        "outputId": "02be3a36-28a1-466e-cc22-ee077cb7681e"
      },
      "execution_count": 42,
      "outputs": [
        {
          "output_type": "stream",
          "name": "stdout",
          "text": [
            "Loaded weights from ../../models/AirSim_building_mapnet_mapnet_imu_None_noisy_None_skip_10/epoch_100.pth.tar\n",
            "Running mapnet on VAL data\n",
            "Image 0 / 311\n",
            "Image 200 / 311\n",
            "Error in translation: median 1.19 m,  mean 1.37 m\n",
            "Error in rotation: median 10.16 degrees, mean 15.30 degree\n",
            "results/AirSim_building_mapnet.png saved\n",
            "results/AirSim_building_mapnet.pkl written\n"
          ]
        }
      ]
    },
    {
      "cell_type": "code",
      "source": [
        "! python eval.py \\\n",
        "--dataset AirSim --scene building --data_dir '/content/drive/MyDrive/Colab Notebooks/FYP/datasets' \\\n",
        "--config_file configs/mapnet.ini --model mapnet --output_dir results/ \\\n",
        "--weights ../../models/AirSim_building_mapnet_mapnet_imu_None_noisy_v1_skip_10/epoch_100.pth.tar \\\n",
        "--val --imu_mode None \\\n",
        "# --plot_3d "
      ],
      "metadata": {
        "id": "kg75kyttDDqh",
        "colab": {
          "base_uri": "https://localhost:8080/"
        },
        "outputId": "69c760c7-4d7d-40d3-ddc8-382502f711b7"
      },
      "execution_count": 43,
      "outputs": [
        {
          "output_type": "stream",
          "name": "stdout",
          "text": [
            "Loaded weights from ../../models/AirSim_building_mapnet_mapnet_imu_None_noisy_v1_skip_10/epoch_100.pth.tar\n",
            "Running mapnet on VAL data\n",
            "Image 0 / 311\n",
            "Image 200 / 311\n",
            "Error in translation: median 1.40 m,  mean 1.65 m\n",
            "Error in rotation: median 11.56 degrees, mean 16.87 degree\n",
            "results/AirSim_building_mapnet.png saved\n",
            "results/AirSim_building_mapnet.pkl written\n"
          ]
        }
      ]
    },
    {
      "cell_type": "code",
      "source": [
        "! python eval.py \\\n",
        "--dataset AirSim --scene building --data_dir '/content/drive/MyDrive/Colab Notebooks/FYP/datasets' \\\n",
        "--config_file configs/mapnet.ini --model mapnet --output_dir results/ \\\n",
        "--weights ../../models/AirSim_building_mapnet_mapnet_imu_None_noisy_v2_skip_10/epoch_100.pth.tar \\\n",
        "--val --imu_mode None \\\n",
        "# --plot_3d "
      ],
      "metadata": {
        "id": "Gsczoe_oDEJt",
        "colab": {
          "base_uri": "https://localhost:8080/"
        },
        "outputId": "6e0e9270-8a19-4cce-f965-00cba3564c14"
      },
      "execution_count": 44,
      "outputs": [
        {
          "output_type": "stream",
          "name": "stdout",
          "text": [
            "Loaded weights from ../../models/AirSim_building_mapnet_mapnet_imu_None_noisy_v2_skip_10/epoch_100.pth.tar\n",
            "Running mapnet on VAL data\n",
            "Image 0 / 311\n",
            "Image 200 / 311\n",
            "Error in translation: median 1.39 m,  mean 1.64 m\n",
            "Error in rotation: median 14.55 degrees, mean 20.47 degree\n",
            "results/AirSim_building_mapnet.png saved\n",
            "results/AirSim_building_mapnet.pkl written\n"
          ]
        }
      ]
    },
    {
      "cell_type": "code",
      "source": [
        "! python eval.py \\\n",
        "--dataset AirSim --scene building --data_dir '/content/drive/MyDrive/Colab Notebooks/FYP/datasets' \\\n",
        "--config_file configs/mapnet.ini --model mapnet --output_dir results/ \\\n",
        "--weights ../../models/AirSim_building_mapnet_mapnet_imu_Average_noisy_None_imu_weight_0_5_skip_10/epoch_100.pth.tar \\\n",
        "--val --imu_mode None \\\n",
        "# --plot_3d "
      ],
      "metadata": {
        "id": "x3jjD76PfoC2",
        "colab": {
          "base_uri": "https://localhost:8080/"
        },
        "outputId": "f7f264f2-3343-4343-add2-9e7390a72993"
      },
      "execution_count": 45,
      "outputs": [
        {
          "output_type": "stream",
          "name": "stdout",
          "text": [
            "Loaded weights from ../../models/AirSim_building_mapnet_mapnet_imu_Average_noisy_None_imu_weight_0_5_skip_10/epoch_100.pth.tar\n",
            "Running mapnet on VAL data\n",
            "Image 0 / 311\n",
            "Image 200 / 311\n",
            "Error in translation: median 1.52 m,  mean 1.72 m\n",
            "Error in rotation: median 8.71 degrees, mean 14.27 degree\n",
            "results/AirSim_building_mapnet.png saved\n",
            "results/AirSim_building_mapnet.pkl written\n"
          ]
        }
      ]
    },
    {
      "cell_type": "code",
      "source": [
        "! python eval.py \\\n",
        "--dataset AirSim --scene building --data_dir '/content/drive/MyDrive/Colab Notebooks/FYP/datasets' \\\n",
        "--config_file configs/mapnet.ini --model mapnet --output_dir results/ \\\n",
        "--weights ../../models/AirSim_building_mapnet_mapnet_imu_Average_noisy_v1_imu_weight_0_5_skip_10/epoch_100.pth.tar \\\n",
        "--val --imu_mode None \\\n",
        "# --plot_3d \n"
      ],
      "metadata": {
        "id": "3W1CHA2jo3f8",
        "colab": {
          "base_uri": "https://localhost:8080/"
        },
        "outputId": "9a5fd396-7e31-4e31-bc14-b14b28731e4c"
      },
      "execution_count": 46,
      "outputs": [
        {
          "output_type": "stream",
          "name": "stdout",
          "text": [
            "Loaded weights from ../../models/AirSim_building_mapnet_mapnet_imu_Average_noisy_v1_imu_weight_0_5_skip_10/epoch_100.pth.tar\n",
            "Running mapnet on VAL data\n",
            "Image 0 / 311\n",
            "Image 200 / 311\n",
            "Error in translation: median 1.41 m,  mean 1.68 m\n",
            "Error in rotation: median 9.99 degrees, mean 17.05 degree\n",
            "results/AirSim_building_mapnet.png saved\n",
            "results/AirSim_building_mapnet.pkl written\n"
          ]
        }
      ]
    },
    {
      "cell_type": "code",
      "source": [
        "! python eval.py \\\n",
        "--dataset AirSim --scene building --data_dir '/content/drive/MyDrive/Colab Notebooks/FYP/datasets' \\\n",
        "--config_file configs/mapnet.ini --model mapnet --output_dir results/ \\\n",
        "--weights ../../models/AirSim_building_mapnet_mapnet_imu_Average_noisy_v2_imu_weight_0_5_skip_10/epoch_100.pth.tar \\\n",
        "--val --imu_mode None \\\n",
        "# --plot_3d "
      ],
      "metadata": {
        "id": "3hcSoQP74zCa",
        "colab": {
          "base_uri": "https://localhost:8080/"
        },
        "outputId": "972ef59d-91b0-46f5-8492-bbf924256eaf"
      },
      "execution_count": 47,
      "outputs": [
        {
          "output_type": "stream",
          "name": "stdout",
          "text": [
            "Loaded weights from ../../models/AirSim_building_mapnet_mapnet_imu_Average_noisy_v2_imu_weight_0_5_skip_10/epoch_100.pth.tar\n",
            "Running mapnet on VAL data\n",
            "Image 0 / 311\n",
            "Image 200 / 311\n",
            "Error in translation: median 1.66 m,  mean 1.84 m\n",
            "Error in rotation: median 16.46 degrees, mean 23.00 degree\n",
            "results/AirSim_building_mapnet.png saved\n",
            "results/AirSim_building_mapnet.pkl written\n"
          ]
        }
      ]
    }
  ],
  "metadata": {
    "accelerator": "GPU",
    "colab": {
      "collapsed_sections": [],
      "name": "IMUMapNet_synthetic_experiments.ipynb",
      "provenance": [],
      "toc_visible": true
    },
    "kernelspec": {
      "display_name": "Python 3",
      "name": "python3"
    },
    "language_info": {
      "name": "python"
    }
  },
  "nbformat": 4,
  "nbformat_minor": 0
}