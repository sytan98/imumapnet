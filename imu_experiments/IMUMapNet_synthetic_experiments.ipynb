{
  "cells": [
    {
      "cell_type": "code",
      "execution_count": null,
      "metadata": {
        "id": "opKv1sPVXI_r"
      },
      "outputs": [],
      "source": [
        "from google.colab import drive\n",
        "drive.mount('/content/drive')"
      ]
    },
    {
      "cell_type": "code",
      "execution_count": null,
      "metadata": {
        "id": "ij9vPqVcY9oQ"
      },
      "outputs": [],
      "source": [
        "import os\n",
        "os.chdir('/content/drive/My Drive/Colab Notebooks/FYP/imumapnet')"
      ]
    },
    {
      "cell_type": "code",
      "execution_count": null,
      "metadata": {
        "id": "ZQnoxC5rZiAY"
      },
      "outputs": [],
      "source": [
        "! pip install transforms3d\n",
        "! pip install rowan\n",
        "! pip install pyquaternion"
      ]
    },
    {
      "cell_type": "code",
      "source": [
        "%cd scripts"
      ],
      "metadata": {
        "id": "6-cWVIwJCzlP"
      },
      "execution_count": null,
      "outputs": []
    },
    {
      "cell_type": "code",
      "source": [
        "%load_ext tensorboard\n",
        "%tensorboard --logdir=./"
      ],
      "metadata": {
        "id": "jOoCBbHUN32A"
      },
      "execution_count": null,
      "outputs": []
    },
    {
      "cell_type": "markdown",
      "metadata": {
        "id": "TRltAfiGY-GX"
      },
      "source": [
        "# Building_99"
      ]
    },
    {
      "cell_type": "markdown",
      "metadata": {
        "id": "0v8ML-akse4s"
      },
      "source": [
        "## Training"
      ]
    },
    {
      "cell_type": "code",
      "source": [
        "gpu_info = !nvidia-smi\n",
        "gpu_info = '\\n'.join(gpu_info)\n",
        "if gpu_info.find('failed') >= 0:\n",
        "  print('Not connected to a GPU')\n",
        "else:\n",
        "  print(gpu_info)"
      ],
      "metadata": {
        "id": "TzxJg9yEoPPY"
      },
      "execution_count": null,
      "outputs": []
    },
    {
      "cell_type": "markdown",
      "source": [
        "### Baseline"
      ],
      "metadata": {
        "id": "sASGFTuF-I5q"
      }
    },
    {
      "cell_type": "code",
      "source": [
        "! python train.py \\\n",
        "--dataset AirSim --scene building_new --data_dir '/content/drive/MyDrive/Colab Notebooks/FYP/datasets' \\\n",
        "--config_file configs/mapnet.ini --model mapnet --device 0 \\\n",
        "--imu_mode None \\\n",
        "--noisy_training None \\\n",
        "--checkpoint logs/AirSim_building_new_mapnet_mapnet_imu_None_noisy_None/epoch_100.pth.tar \\\n",
        "--resume_optim"
      ],
      "metadata": {
        "id": "HMGNyMPT4NbN"
      },
      "execution_count": null,
      "outputs": []
    },
    {
      "cell_type": "code",
      "source": [
        "! python train.py \\\n",
        "--dataset AirSim --scene building_new --data_dir '/content/drive/MyDrive/Colab Notebooks/FYP/datasets' \\\n",
        "--config_file configs/mapnet.ini --model mapnet --device 0 \\\n",
        "--imu_mode None \\\n",
        "--noisy_training v1 \\\n",
        "--checkpoint logs/AirSim_building_new_mapnet_mapnet_imu_None_noisy_v1/epoch_100.pth.tar \\\n",
        "--resume_optim"
      ],
      "metadata": {
        "id": "Y4rzRz0KjBhR"
      },
      "execution_count": null,
      "outputs": []
    },
    {
      "cell_type": "code",
      "source": [
        "! python train.py \\\n",
        "--dataset AirSim --scene building_new --data_dir '/content/drive/MyDrive/Colab Notebooks/FYP/datasets' \\\n",
        "--config_file configs/mapnet.ini --model mapnet --device 0 \\\n",
        "--imu_mode None \\\n",
        "--noisy_training v2 \\\n",
        "--checkpoint logs/AirSim_building_new_mapnet_mapnet_imu_None_noisy_v2/epoch_100.pth.tar \\\n",
        "--resume_optim"
      ],
      "metadata": {
        "id": "JK6yATthOzid"
      },
      "execution_count": null,
      "outputs": []
    },
    {
      "cell_type": "markdown",
      "source": [
        "### Weighted Average alpha = 0.5"
      ],
      "metadata": {
        "id": "k9W1Ec0UAzVE"
      }
    },
    {
      "cell_type": "code",
      "source": [
        "! python train.py \\\n",
        "--dataset AirSim --scene building_new --data_dir '/content/drive/MyDrive/Colab Notebooks/FYP/datasets' \\\n",
        "--config_file configs/mapnet.ini --model mapnet --device 0 \\\n",
        "--imu_mode Average \\\n",
        "--noisy_training None \\\n",
        "--suffix _imu_weight_0_5 \\\n",
        "--checkpoint logs/AirSim_building_new_mapnet_mapnet_imu_Average_noisy_None_imu_weight_0_5/epoch_100.pth.tar \\\n",
        "--resume_optim"
      ],
      "metadata": {
        "id": "mjBreHRgP7tV"
      },
      "execution_count": null,
      "outputs": []
    },
    {
      "cell_type": "code",
      "source": [
        "! python train.py \\\n",
        "--dataset AirSim --scene building_new --data_dir '/content/drive/MyDrive/Colab Notebooks/FYP/datasets' \\\n",
        "--config_file configs/mapnet.ini --model mapnet --device 0 \\\n",
        "--imu_mode Average \\\n",
        "--noisy_training v1 \\\n",
        "--suffix _imu_weight_0_5 \\\n",
        "--checkpoint logs/AirSim_building_new_mapnet_mapnet_imu_Average_noisy_v1_imu_weight_0_5/epoch_100.pth.tar \\\n",
        "--resume_optim"
      ],
      "metadata": {
        "id": "H1YVYRd7AW7j"
      },
      "execution_count": null,
      "outputs": []
    },
    {
      "cell_type": "code",
      "source": [
        "! python train.py \\\n",
        "--dataset AirSim --scene building_new --data_dir '/content/drive/MyDrive/Colab Notebooks/FYP/datasets' \\\n",
        "--config_file configs/mapnet.ini --model mapnet --device 0 \\\n",
        "--imu_mode Average \\\n",
        "--noisy_training v2 \\\n",
        "--suffix _imu_weight_0_5 \\\n",
        "--checkpoint logs/AirSim_building_new_mapnet_mapnet_imu_Average_noisy_v2_imu_weight_0_5/epoch_100.pth.tar \\\n",
        "--resume_optim"
      ],
      "metadata": {
        "id": "_OUStCKfAYId"
      },
      "execution_count": null,
      "outputs": []
    },
    {
      "cell_type": "markdown",
      "source": [
        "### Weighted Average alpha = 0.75"
      ],
      "metadata": {
        "id": "Vkv4pFXDYxSA"
      }
    },
    {
      "cell_type": "code",
      "source": [
        "! python train.py \\\n",
        "--dataset AirSim --scene building_new --data_dir '/content/drive/MyDrive/Colab Notebooks/FYP/datasets' \\\n",
        "--config_file configs/mapnet.ini --model mapnet --device 0 \\\n",
        "--imu_mode Average \\\n",
        "--noisy_training None \\\n",
        "--suffix _imu_weight_0_75 \\"
      ],
      "metadata": {
        "id": "vin13wINY0RR"
      },
      "execution_count": null,
      "outputs": []
    },
    {
      "cell_type": "code",
      "source": [
        "! python train.py \\\n",
        "--dataset AirSim --scene building_new --data_dir '/content/drive/MyDrive/Colab Notebooks/FYP/datasets' \\\n",
        "--config_file configs/mapnet.ini --model mapnet --device 0 \\\n",
        "--imu_mode Average \\\n",
        "--noisy_training v1 \\\n",
        "--suffix _imu_weight_0_75 \\"
      ],
      "metadata": {
        "id": "ZdEsUJAqY0OT"
      },
      "execution_count": null,
      "outputs": []
    },
    {
      "cell_type": "code",
      "source": [
        "! python train.py \\\n",
        "--dataset AirSim --scene building_new --data_dir '/content/drive/MyDrive/Colab Notebooks/FYP/datasets' \\\n",
        "--config_file configs/mapnet.ini --model mapnet --device 0 \\\n",
        "--imu_mode Average \\\n",
        "--noisy_training v2 \\\n",
        "--suffix _imu_weight_0_75 \\"
      ],
      "metadata": {
        "id": "sqlKufwga662"
      },
      "execution_count": null,
      "outputs": []
    },
    {
      "cell_type": "markdown",
      "source": [
        "### Weighted Average alpha = 1.0\n"
      ],
      "metadata": {
        "id": "RbS9EcLVZpa8"
      }
    },
    {
      "cell_type": "code",
      "source": [
        "! python train.py \\\n",
        "--dataset AirSim --scene building_new --data_dir '/content/drive/MyDrive/Colab Notebooks/FYP/datasets' \\\n",
        "--config_file configs/mapnet.ini --model mapnet --device 0 \\\n",
        "--imu_mode Average \\\n",
        "--noisy_training None \\\n",
        "--suffix _imu_weight_1 \\"
      ],
      "metadata": {
        "id": "KQ-F8rxsZtTw"
      },
      "execution_count": null,
      "outputs": []
    },
    {
      "cell_type": "code",
      "source": [
        "! python train.py \\\n",
        "--dataset AirSim --scene building_new --data_dir '/content/drive/MyDrive/Colab Notebooks/FYP/datasets' \\\n",
        "--config_file configs/mapnet.ini --model mapnet --device 0 \\\n",
        "--imu_mode Average \\\n",
        "--noisy_training v1 \\\n",
        "--suffix _imu_weight_1 \\"
      ],
      "metadata": {
        "id": "uYSI1yf3ZvXI"
      },
      "execution_count": null,
      "outputs": []
    },
    {
      "cell_type": "code",
      "source": [
        "! python train.py \\\n",
        "--dataset AirSim --scene building_new --data_dir '/content/drive/MyDrive/Colab Notebooks/FYP/datasets' \\\n",
        "--config_file configs/mapnet.ini --model mapnet --device 0 \\\n",
        "--imu_mode Average \\\n",
        "--noisy_training v2 \\\n",
        "--suffix _imu_weight_1 \\"
      ],
      "metadata": {
        "id": "O4BmvYDpZv7s"
      },
      "execution_count": null,
      "outputs": []
    },
    {
      "cell_type": "markdown",
      "source": [
        "### Separate"
      ],
      "metadata": {
        "id": "MA6AOSthAxaB"
      }
    },
    {
      "cell_type": "code",
      "source": [
        "! python train.py \\\n",
        "--dataset AirSim --scene building_new --data_dir '/content/drive/MyDrive/Colab Notebooks/FYP/datasets' \\\n",
        "--config_file configs/mapnet.ini --model mapnet --device 0 \\\n",
        "--imu_mode Separate \\\n",
        "--noisy_training None \\\n",
        "--average_method Simple "
      ],
      "metadata": {
        "id": "nAUDFsxIAxIZ"
      },
      "execution_count": null,
      "outputs": []
    },
    {
      "cell_type": "code",
      "source": [
        "! python train.py \\\n",
        "--dataset AirSim --scene building_new --data_dir '/content/drive/MyDrive/Colab Notebooks/FYP/datasets' \\\n",
        "--config_file configs/mapnet.ini --model mapnet --device 0 \\\n",
        "--imu_mode Separate \\\n",
        "--noisy_training v1 \\\n",
        "--average_method Simple "
      ],
      "metadata": {
        "id": "RnAwE8T6A35j"
      },
      "execution_count": null,
      "outputs": []
    },
    {
      "cell_type": "code",
      "source": [
        "! python train.py \\\n",
        "--dataset AirSim --scene building_new --data_dir '/content/drive/MyDrive/Colab Notebooks/FYP/datasets' \\\n",
        "--config_file configs/mapnet.ini --model mapnet --device 0 \\\n",
        "--imu_mode Separate \\\n",
        "--noisy_training v2 \\\n",
        "--average_method Simple "
      ],
      "metadata": {
        "id": "Foygmem3MkG5"
      },
      "execution_count": null,
      "outputs": []
    },
    {
      "cell_type": "markdown",
      "source": [
        "### Varying skip = 10"
      ],
      "metadata": {
        "id": "8Fx3M1AX1-WB"
      }
    },
    {
      "cell_type": "code",
      "source": [
        "! python train.py \\\n",
        "--dataset AirSim --scene building_new --data_dir '/content/drive/MyDrive/Colab Notebooks/FYP/datasets' \\\n",
        "--config_file configs/mapnet.ini --model mapnet --device 0 \\\n",
        "--imu_mode None \\\n",
        "--noisy_training None \\\n",
        "--suffix _skip_10"
      ],
      "metadata": {
        "id": "SPpI8HEV2Ax2"
      },
      "execution_count": null,
      "outputs": []
    },
    {
      "cell_type": "code",
      "source": [
        "! python train.py \\\n",
        "--dataset AirSim --scene building_new --data_dir '/content/drive/MyDrive/Colab Notebooks/FYP/datasets' \\\n",
        "--config_file configs/mapnet.ini --model mapnet --device 0 \\\n",
        "--imu_mode None \\\n",
        "--noisy_training v1 \\\n",
        "--suffix _skip_10"
      ],
      "metadata": {
        "id": "gJhKqcOM6wTA"
      },
      "execution_count": null,
      "outputs": []
    },
    {
      "cell_type": "code",
      "source": [
        "! python train.py \\\n",
        "--dataset AirSim --scene building_new --data_dir '/content/drive/MyDrive/Colab Notebooks/FYP/datasets' \\\n",
        "--config_file configs/mapnet.ini --model mapnet --device 0 \\\n",
        "--imu_mode None \\\n",
        "--noisy_training v2 \\\n",
        "--suffix _skip_10"
      ],
      "metadata": {
        "id": "2RJU48L261im"
      },
      "execution_count": null,
      "outputs": []
    },
    {
      "cell_type": "code",
      "source": [
        "! python train.py \\\n",
        "--dataset AirSim --scene building_new --data_dir '/content/drive/MyDrive/Colab Notebooks/FYP/datasets' \\\n",
        "--config_file configs/mapnet.ini --model mapnet --device 0 \\\n",
        "--imu_mode Average \\\n",
        "--noisy_training None \\\n",
        "--suffix _imu_weight_0_5_skip_10"
      ],
      "metadata": {
        "id": "tFxKjfKH6tI6"
      },
      "execution_count": null,
      "outputs": []
    },
    {
      "cell_type": "code",
      "source": [
        "! python train.py \\\n",
        "--dataset AirSim --scene building_new --data_dir '/content/drive/MyDrive/Colab Notebooks/FYP/datasets' \\\n",
        "--config_file configs/mapnet.ini --model mapnet --device 0 \\\n",
        "--imu_mode Average \\\n",
        "--noisy_training v1 \\\n",
        "--suffix _imu_weight_0_5_skip_10"
      ],
      "metadata": {
        "id": "gAyv65pB2C-z"
      },
      "execution_count": null,
      "outputs": []
    },
    {
      "cell_type": "code",
      "source": [
        "! python train.py \\\n",
        "--dataset AirSim --scene building_new --data_dir '/content/drive/MyDrive/Colab Notebooks/FYP/datasets' \\\n",
        "--config_file configs/mapnet.ini --model mapnet --device 0 \\\n",
        "--imu_mode Average \\\n",
        "--noisy_training v2 \\\n",
        "--suffix _imu_weight_0_5_skip_10 \\\n",
        "--checkpoint logs/AirSim_building_new_mapnet_mapnet_imu_Average_noisy_v2_imu_weight_0_5_skip_10/epoch_040.pth.tar \\\n",
        "--resume_optim"
      ],
      "metadata": {
        "id": "IJqKEDro2DWD"
      },
      "execution_count": null,
      "outputs": []
    },
    {
      "cell_type": "markdown",
      "source": [
        "## Evaluation"
      ],
      "metadata": {
        "id": "XnoA2FbfAGJ5"
      }
    },
    {
      "cell_type": "markdown",
      "source": [
        "### Baseline"
      ],
      "metadata": {
        "id": "bTv_1Wr74vt8"
      }
    },
    {
      "cell_type": "code",
      "source": [
        "! python eval.py \\\n",
        "--dataset AirSim --scene building_new --data_dir '/content/drive/MyDrive/Colab Notebooks/FYP/datasets' \\\n",
        "--config_file configs/mapnet.ini --model mapnet --output_dir results/ \\\n",
        "--weights logs/AirSim_building_new_mapnet_mapnet_imu_None_noisy_None/epoch_100.pth.tar \\\n",
        "--val --imu_mode None   \\\n",
        "--plot_3d"
      ],
      "metadata": {
        "id": "xn2EK3O-AHM3"
      },
      "execution_count": null,
      "outputs": []
    },
    {
      "cell_type": "code",
      "source": [
        "! python eval.py \\\n",
        "--dataset AirSim --scene building_new --data_dir '/content/drive/MyDrive/Colab Notebooks/FYP/datasets' \\\n",
        "--config_file configs/mapnet.ini --model mapnet --output_dir results/ \\\n",
        "--weights logs/AirSim_building_new_mapnet_mapnet_imu_None_noisy_v1/epoch_100.pth.tar \\\n",
        "--val --imu_mode None   \\\n",
        "--plot_3d"
      ],
      "metadata": {
        "id": "XN0r64j_iDv9"
      },
      "execution_count": null,
      "outputs": []
    },
    {
      "cell_type": "code",
      "source": [
        "! python eval.py \\\n",
        "--dataset AirSim --scene building_new --data_dir '/content/drive/MyDrive/Colab Notebooks/FYP/datasets' \\\n",
        "--config_file configs/mapnet.ini --model mapnet --output_dir results/ \\\n",
        "--weights logs/AirSim_building_new_mapnet_mapnet_imu_None_noisy_v2/epoch_100.pth.tar \\\n",
        "--val --imu_mode None \\\n",
        "# --plot_3d "
      ],
      "metadata": {
        "id": "kok_QFvlIBQK"
      },
      "execution_count": null,
      "outputs": []
    },
    {
      "cell_type": "markdown",
      "source": [
        "### Weighted Average alpha = 0.25"
      ],
      "metadata": {
        "id": "DbwPmXtJoA_g"
      }
    },
    {
      "cell_type": "code",
      "source": [
        "! python eval.py \\\n",
        "--dataset AirSim --scene building_new --data_dir '/content/drive/MyDrive/Colab Notebooks/FYP/datasets' \\\n",
        "--config_file configs/mapnet.ini --model mapnet --output_dir results/ \\\n",
        "--weights logs/AirSim_building_new_mapnet_mapnet_imu_Average_noisy_None_imu_weight_0_25/epoch_100.pth.tar \\\n",
        "--val --imu_mode Average \\\n",
        "# --plot_3d "
      ],
      "metadata": {
        "id": "1eU0wj3coD0f"
      },
      "execution_count": null,
      "outputs": []
    },
    {
      "cell_type": "code",
      "source": [
        "! python eval.py \\\n",
        "--dataset AirSim --scene building_new --data_dir '/content/drive/MyDrive/Colab Notebooks/FYP/datasets' \\\n",
        "--config_file configs/mapnet.ini --model mapnet --output_dir results/ \\\n",
        "--weights logs/AirSim_building_new_mapnet_mapnet_imu_Average_noisy_v1_imu_weight_0_25/epoch_100.pth.tar \\\n",
        "--val --imu_mode Average \\\n",
        "# --plot_3d "
      ],
      "metadata": {
        "id": "d4acePXcoIPZ"
      },
      "execution_count": null,
      "outputs": []
    },
    {
      "cell_type": "code",
      "source": [
        "! python eval.py \\\n",
        "--dataset AirSim --scene building_new --data_dir '/content/drive/MyDrive/Colab Notebooks/FYP/datasets' \\\n",
        "--config_file configs/mapnet.ini --model mapnet --output_dir results/ \\\n",
        "--weights logs/AirSim_building_new_mapnet_mapnet_imu_Average_noisy_v2_imu_weight_0_25/epoch_100.pth.tar \\\n",
        "--val --imu_mode Average \\\n",
        "# --plot_3d "
      ],
      "metadata": {
        "id": "GRlDUmUToLhZ"
      },
      "execution_count": null,
      "outputs": []
    },
    {
      "cell_type": "markdown",
      "source": [
        "### Weighted Average alpha = 0.5"
      ],
      "metadata": {
        "id": "_BwsML3f4SYs"
      }
    },
    {
      "cell_type": "code",
      "source": [
        "! python eval.py \\\n",
        "--dataset AirSim --scene building_new --data_dir '/content/drive/MyDrive/Colab Notebooks/FYP/datasets' \\\n",
        "--config_file configs/mapnet.ini --model mapnet --output_dir results/ \\\n",
        "--weights logs/AirSim_building_new_mapnet_mapnet_imu_Average_noisy_None_imu_weight_0_5/epoch_100.pth.tar \\\n",
        "--val --imu_mode Average \\\n",
        "--plot_3d "
      ],
      "metadata": {
        "id": "EbA2wa_cs79n"
      },
      "execution_count": null,
      "outputs": []
    },
    {
      "cell_type": "code",
      "source": [
        "! python eval.py \\\n",
        "--dataset AirSim --scene building_new --data_dir '/content/drive/MyDrive/Colab Notebooks/FYP/datasets' \\\n",
        "--config_file configs/mapnet.ini --model mapnet --output_dir results/ \\\n",
        "--weights logs/AirSim_building_new_mapnet_mapnet_imu_Average_noisy_v1_imu_weight_0_5/epoch_100.pth.tar \\\n",
        "--val --imu_mode Average \\\n",
        "--plot_3d "
      ],
      "metadata": {
        "id": "9hWK-ekS-GM_"
      },
      "execution_count": null,
      "outputs": []
    },
    {
      "cell_type": "code",
      "source": [
        "! python eval.py \\\n",
        "--dataset AirSim --scene building_new --data_dir '/content/drive/MyDrive/Colab Notebooks/FYP/datasets' \\\n",
        "--config_file configs/mapnet.ini --model mapnet --output_dir results/ \\\n",
        "--weights logs/AirSim_building_new_mapnet_mapnet_imu_Average_noisy_v2_imu_weight_0_5/epoch_100.pth.tar \\\n",
        "--val --imu_mode Average \\\n",
        "# --plot_3d "
      ],
      "metadata": {
        "id": "ABGLpzV34WoC"
      },
      "execution_count": null,
      "outputs": []
    },
    {
      "cell_type": "markdown",
      "source": [
        "### Weighted Average alpha = 0.75"
      ],
      "metadata": {
        "id": "JU47d4cVhJpg"
      }
    },
    {
      "cell_type": "code",
      "source": [
        "! python eval.py \\\n",
        "--dataset AirSim --scene building_new --data_dir '/content/drive/MyDrive/Colab Notebooks/FYP/datasets' \\\n",
        "--config_file configs/mapnet.ini --model mapnet --output_dir results/ \\\n",
        "--weights logs/AirSim_building_new_mapnet_mapnet_imu_Average_noisy_None_imu_weight_0_75/epoch_100.pth.tar \\\n",
        "--val --imu_mode Average \\\n",
        "# --plot_3d "
      ],
      "metadata": {
        "id": "oK4UvJ8ShJNT"
      },
      "execution_count": null,
      "outputs": []
    },
    {
      "cell_type": "code",
      "source": [
        "! python eval.py \\\n",
        "--dataset AirSim --scene building_new --data_dir '/content/drive/MyDrive/Colab Notebooks/FYP/datasets' \\\n",
        "--config_file configs/mapnet.ini --model mapnet --output_dir results/ \\\n",
        "--weights logs/AirSim_building_new_mapnet_mapnet_imu_Average_noisy_v1_imu_weight_0_75/epoch_100.pth.tar \\\n",
        "--val --imu_mode Average \\\n",
        "# --plot_3d "
      ],
      "metadata": {
        "id": "iFAvRbL_hOQH"
      },
      "execution_count": null,
      "outputs": []
    },
    {
      "cell_type": "code",
      "source": [
        "! python eval.py \\\n",
        "--dataset AirSim --scene building_new --data_dir '/content/drive/MyDrive/Colab Notebooks/FYP/datasets' \\\n",
        "--config_file configs/mapnet.ini --model mapnet --output_dir results/ \\\n",
        "--weights logs/AirSim_building_new_mapnet_mapnet_imu_Average_noisy_v2_imu_weight_0_75/epoch_100.pth.tar \\\n",
        "--val --imu_mode Average \\\n",
        "# --plot_3d "
      ],
      "metadata": {
        "id": "7Ak-6flGhOKf"
      },
      "execution_count": null,
      "outputs": []
    },
    {
      "cell_type": "markdown",
      "source": [
        "### Weighted Average alpha = 1.0"
      ],
      "metadata": {
        "id": "nmX-DjnIZ42d"
      }
    },
    {
      "cell_type": "code",
      "source": [
        "! python eval.py \\\n",
        "--dataset AirSim --scene building_new --data_dir '/content/drive/MyDrive/Colab Notebooks/FYP/datasets' \\\n",
        "--config_file configs/mapnet.ini --model mapnet --output_dir results/ \\\n",
        "--weights logs/AirSim_building_new_mapnet_mapnet_imu_Average_noisy_None_imu_weight_1/epoch_100.pth.tar \\\n",
        "--val --imu_mode Average \\\n",
        "# --plot_3d "
      ],
      "metadata": {
        "id": "CuBmpXDAZ8K7"
      },
      "execution_count": null,
      "outputs": []
    },
    {
      "cell_type": "code",
      "source": [
        "! python eval.py \\\n",
        "--dataset AirSim --scene building_new --data_dir '/content/drive/MyDrive/Colab Notebooks/FYP/datasets' \\\n",
        "--config_file configs/mapnet.ini --model mapnet --output_dir results/ \\\n",
        "--weights logs/AirSim_building_new_mapnet_mapnet_imu_Average_noisy_v1_imu_weight_1/epoch_100.pth.tar \\\n",
        "--val --imu_mode Average \\\n",
        "# --plot_3d "
      ],
      "metadata": {
        "id": "5JefBCGbZ8qF"
      },
      "execution_count": null,
      "outputs": []
    },
    {
      "cell_type": "code",
      "source": [
        "! python eval.py \\\n",
        "--dataset AirSim --scene building_new --data_dir '/content/drive/MyDrive/Colab Notebooks/FYP/datasets' \\\n",
        "--config_file configs/mapnet.ini --model mapnet --output_dir results/ \\\n",
        "--weights logs/AirSim_building_new_mapnet_mapnet_imu_Average_noisy_v2_imu_weight_1/epoch_100.pth.tar \\\n",
        "--val --imu_mode Average \\\n",
        "# --plot_3d "
      ],
      "metadata": {
        "id": "vtPWTSEIZ9Bz"
      },
      "execution_count": null,
      "outputs": []
    },
    {
      "cell_type": "markdown",
      "source": [
        "### Separate"
      ],
      "metadata": {
        "id": "FU4OS8tp4YDY"
      }
    },
    {
      "cell_type": "code",
      "source": [
        "! python eval.py \\\n",
        "--dataset AirSim --scene building_new --data_dir '/content/drive/MyDrive/Colab Notebooks/FYP/datasets' \\\n",
        "--config_file configs/mapnet.ini --model mapnet --output_dir results/ \\\n",
        "--weights logs/AirSim_building_new_mapnet_mapnet_imu_Separate_noisy_None/epoch_100.pth.tar \\\n",
        "--val --imu_mode Separate \\\n",
        "--average_method Simple\n",
        "# --plot_3d "
      ],
      "metadata": {
        "id": "8uF7LN4t4XhE"
      },
      "execution_count": null,
      "outputs": []
    },
    {
      "cell_type": "code",
      "source": [
        "! python eval.py \\\n",
        "--dataset AirSim --scene building_new --data_dir '/content/drive/MyDrive/Colab Notebooks/FYP/datasets' \\\n",
        "--config_file configs/mapnet.ini --model mapnet --output_dir results/ \\\n",
        "--weights logs/AirSim_building_new_mapnet_mapnet_imu_Separate_noisy_None/epoch_100.pth.tar \\\n",
        "--val --imu_mode Separate \\\n",
        "--average_method Interpolate\n",
        "# --plot_3d "
      ],
      "metadata": {
        "id": "pQR0cxzl4i3_"
      },
      "execution_count": null,
      "outputs": []
    },
    {
      "cell_type": "code",
      "source": [
        "! python eval.py \\\n",
        "--dataset AirSim --scene building_new --data_dir '/content/drive/MyDrive/Colab Notebooks/FYP/datasets' \\\n",
        "--config_file configs/mapnet.ini --model mapnet --output_dir results/ \\\n",
        "--weights logs/AirSim_building_new_mapnet_mapnet_imu_Separate_noisy_v1/epoch_100.pth.tar \\\n",
        "--val --imu_mode Separate \\\n",
        "--average_method Simple\n",
        "# --plot_3d "
      ],
      "metadata": {
        "id": "0no7EgxD6l5i"
      },
      "execution_count": null,
      "outputs": []
    },
    {
      "cell_type": "code",
      "source": [
        "! python eval.py \\\n",
        "--dataset AirSim --scene building_new --data_dir '/content/drive/MyDrive/Colab Notebooks/FYP/datasets' \\\n",
        "--config_file configs/mapnet.ini --model mapnet --output_dir results/ \\\n",
        "--weights logs/AirSim_building_new_mapnet_mapnet_imu_Separate_noisy_v1/epoch_100.pth.tar \\\n",
        "--val --imu_mode Separate \\\n",
        "--average_method Interpolate\n",
        "# --plot_3d "
      ],
      "metadata": {
        "id": "nwzbyZRQ6mYV"
      },
      "execution_count": null,
      "outputs": []
    },
    {
      "cell_type": "code",
      "source": [
        "! python eval.py \\\n",
        "--dataset AirSim --scene building_new --data_dir '/content/drive/MyDrive/Colab Notebooks/FYP/datasets' \\\n",
        "--config_file configs/mapnet.ini --model mapnet --output_dir results/ \\\n",
        "--weights logs/AirSim_building_new_mapnet_mapnet_imu_Separate_noisy_v2/epoch_100.pth.tar \\\n",
        "--val --imu_mode Separate \\\n",
        "--average_method Simple\n",
        "# --plot_3d "
      ],
      "metadata": {
        "id": "DWZGwqUm6vts"
      },
      "execution_count": null,
      "outputs": []
    },
    {
      "cell_type": "code",
      "source": [
        "! python eval.py \\\n",
        "--dataset AirSim --scene building_new --data_dir '/content/drive/MyDrive/Colab Notebooks/FYP/datasets' \\\n",
        "--config_file configs/mapnet.ini --model mapnet --output_dir results/ \\\n",
        "--weights logs/AirSim_building_new_mapnet_mapnet_imu_Separate_noisy_v2/epoch_100.pth.tar \\\n",
        "--val --imu_mode Separate \\\n",
        "--average_method Interpolate\n",
        "# --plot_3d "
      ],
      "metadata": {
        "id": "9ce_HM5B6yOS"
      },
      "execution_count": null,
      "outputs": []
    },
    {
      "cell_type": "markdown",
      "source": [
        "### Varying skip = 10"
      ],
      "metadata": {
        "id": "vOdwaPhwfmBO"
      }
    },
    {
      "cell_type": "code",
      "source": [
        "! python eval.py \\\n",
        "--dataset AirSim --scene building_new --data_dir '/content/drive/MyDrive/Colab Notebooks/FYP/datasets' \\\n",
        "--config_file configs/mapnet.ini --model mapnet --output_dir results/ \\\n",
        "--weights logs/AirSim_building_new_mapnet_mapnet_imu_None_noisy_None_skip_10/epoch_100.pth.tar \\\n",
        "--val --imu_mode None \\\n",
        "# --plot_3d "
      ],
      "metadata": {
        "id": "J_m3LcdgC_c-"
      },
      "execution_count": null,
      "outputs": []
    },
    {
      "cell_type": "code",
      "source": [
        "! python eval.py \\\n",
        "--dataset AirSim --scene building_new --data_dir '/content/drive/MyDrive/Colab Notebooks/FYP/datasets' \\\n",
        "--config_file configs/mapnet.ini --model mapnet --output_dir results/ \\\n",
        "--weights logs/AirSim_building_new_mapnet_mapnet_imu_None_noisy_v1_skip_10/epoch_100.pth.tar \\\n",
        "--val --imu_mode None \\\n",
        "# --plot_3d "
      ],
      "metadata": {
        "id": "kg75kyttDDqh"
      },
      "execution_count": null,
      "outputs": []
    },
    {
      "cell_type": "code",
      "source": [
        "! python eval.py \\\n",
        "--dataset AirSim --scene building_new --data_dir '/content/drive/MyDrive/Colab Notebooks/FYP/datasets' \\\n",
        "--config_file configs/mapnet.ini --model mapnet --output_dir results/ \\\n",
        "--weights logs/AirSim_building_new_mapnet_mapnet_imu_None_noisy_v2_skip_10/epoch_100.pth.tar \\\n",
        "--val --imu_mode None \\\n",
        "# --plot_3d "
      ],
      "metadata": {
        "id": "Gsczoe_oDEJt"
      },
      "execution_count": null,
      "outputs": []
    },
    {
      "cell_type": "code",
      "source": [
        "! python eval.py \\\n",
        "--dataset AirSim --scene building_new --data_dir '/content/drive/MyDrive/Colab Notebooks/FYP/datasets' \\\n",
        "--config_file configs/mapnet.ini --model mapnet --output_dir results/ \\\n",
        "--weights logs/AirSim_building_new_mapnet_mapnet_imu_Average_noisy_None_imu_weight_0_5_skip_10/epoch_100.pth.tar \\\n",
        "--val --imu_mode None \\\n",
        "# --plot_3d "
      ],
      "metadata": {
        "id": "x3jjD76PfoC2"
      },
      "execution_count": null,
      "outputs": []
    },
    {
      "cell_type": "code",
      "source": [
        "! python eval.py \\\n",
        "--dataset AirSim --scene building_new --data_dir '/content/drive/MyDrive/Colab Notebooks/FYP/datasets' \\\n",
        "--config_file configs/mapnet.ini --model mapnet --output_dir results/ \\\n",
        "--weights logs/AirSim_building_new_mapnet_mapnet_imu_Average_noisy_v1_imu_weight_0_5_skip_10/epoch_100.pth.tar \\\n",
        "--val --imu_mode None \\\n",
        "# --plot_3d \n"
      ],
      "metadata": {
        "id": "3W1CHA2jo3f8"
      },
      "execution_count": null,
      "outputs": []
    },
    {
      "cell_type": "code",
      "source": [
        "! python eval.py \\\n",
        "--dataset AirSim --scene building_new --data_dir '/content/drive/MyDrive/Colab Notebooks/FYP/datasets' \\\n",
        "--config_file configs/mapnet.ini --model mapnet --output_dir results/ \\\n",
        "--weights logs/AirSim_building_new_mapnet_mapnet_imu_Average_noisy_v2_imu_weight_0_5_skip_10/epoch_100.pth.tar \\\n",
        "--val --imu_mode None \\\n",
        "# --plot_3d "
      ],
      "metadata": {
        "id": "3hcSoQP74zCa"
      },
      "execution_count": null,
      "outputs": []
    }
  ],
  "metadata": {
    "accelerator": "GPU",
    "colab": {
      "collapsed_sections": [],
      "name": "IMUMapNet_synthetic_experiments.ipynb",
      "provenance": [],
      "toc_visible": true
    },
    "kernelspec": {
      "display_name": "Python 3",
      "name": "python3"
    },
    "language_info": {
      "name": "python"
    }
  },
  "nbformat": 4,
  "nbformat_minor": 0
}